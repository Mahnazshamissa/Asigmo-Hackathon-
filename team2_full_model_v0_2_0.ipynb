{
  "nbformat": 4,
  "nbformat_minor": 0,
  "metadata": {
    "colab": {
      "name": "team2_full-model_v0-2-0.ipynb",
      "provenance": [],
      "collapsed_sections": [],
      "toc_visible": true,
      "include_colab_link": true
    },
    "kernelspec": {
      "name": "python3",
      "display_name": "Python 3"
    }
  },
  "cells": [
    {
      "cell_type": "markdown",
      "metadata": {
        "id": "view-in-github",
        "colab_type": "text"
      },
      "source": [
        "<a href=\"https://colab.research.google.com/github/Mahnazshamissa/Asigmo-Hackathon-/blob/main/team2_full_model_v0_2_0.ipynb\" target=\"_parent\"><img src=\"https://colab.research.google.com/assets/colab-badge.svg\" alt=\"Open In Colab\"/></a>"
      ]
    },
    {
      "cell_type": "markdown",
      "metadata": {
        "id": "Nc4qNd63-dIS"
      },
      "source": [
        "# Problem description\r\n",
        "\r\n",
        "The Hahackaton aims at classifying text as humorous.\r\n",
        "The dataset is a set of short texts that have been labeled by a group of heterogenous people (age, sex, race) under 4 features: \r\n",
        "* 1a: is it humorous? (binary label) \r\n",
        "* 1b: humour grading (0 to 5; 0 is not humorous)\r\n",
        "* 1c: controversy (binary label): when the variance in the humour grading is higher than the average\r\n",
        "* 2a: offensiveness grading (0 to 5; 0 is not offensive)\r\n",
        "\r\n",
        "******\r\n",
        "\r\n",
        "In general, we approached the problem by extracting simple features: text length (in words), punctuation frequency, and most important, the text word content, with the use of count_vectorizer. Before this feature extraction, we previously pre-processed the data: tokenization of words, get rid of punctuation and non-word symbols, lower case, among others.\r\n",
        "\r\n",
        "For task 1a, we applied logistic regression, multinomial naive bayes, and XGBoost. Additionally, we use a FastText to classify according to word context embedding. \r\n",
        "\r\n",
        "We observe that we reach a ceiling of 86% of accuracy. In order to try to improve the score, and under the assumption that each model bases its execution on different aspects of the data -specially FastText -, we combine all the individual models to build an ensemble model (stacking classifier). This led to an improve over the baseline model of 1%.\r\n",
        "\r\n",
        "For 1b, we applied the same data preprocessing strategy followed by Elastic Net regression.\r\n",
        "\r\n",
        "For 1c, we applied the same data preprocessing strategy followed by  Multinomial Naive Bayes,\r\n",
        "\r\n",
        "For 2a, we applied the same data preprocessing strategy followed by XGBoost.\r\n",
        "\r\n",
        "This is the summary of our scores:\r\n",
        "\r\n",
        "\r\n",
        "| Attribute         | *Accuracy* | *f1-score* | *RMSE* |\r\n",
        "| :---------------- | ---------: | ---------: | -----: |\r\n",
        "| is_humour         | 87%        | 90%        | -      |\r\n",
        "| humor_rating      | ---        | ---        | 0.551  |\r\n",
        "| humor_controversy | 55%        | 55%        | -      |\r\n",
        "| offense_rating    | ---        | ---        | 0.812  |\r\n",
        "\r\n"
      ]
    },
    {
      "cell_type": "markdown",
      "metadata": {
        "id": "1LKCzz1JTSfp"
      },
      "source": [
        "# settings"
      ]
    },
    {
      "cell_type": "markdown",
      "metadata": {
        "id": "AOc-oyIi-jAs"
      },
      "source": [
        "## install packages"
      ]
    },
    {
      "cell_type": "code",
      "metadata": {
        "colab": {
          "base_uri": "https://localhost:8080/"
        },
        "id": "1tZIN9kJ-m8Q",
        "outputId": "3c8aaea3-2c9f-40a6-9a3a-cae529fda6b3"
      },
      "source": [
        "## download fasttext and nltk\r\n",
        "!git clone https://github.com/facebookresearch/fastText.git\r\n",
        "%cd fastText\r\n",
        "!make\r\n",
        "!cp fasttext ../\r\n",
        "%cd ..\r\n",
        "!cd ./fastText && pip install .\r\n",
        "import nltk\r\n",
        "nltk.download('stopwords')\r\n",
        "nltk.download('punkt')\r\n",
        "nltk.download('wordnet')\r\n",
        "\r\n",
        "!pip install shap"
      ],
      "execution_count": null,
      "outputs": [
        {
          "output_type": "stream",
          "text": [
            "fatal: destination path 'fastText' already exists and is not an empty directory.\n",
            "/content/fastText\n",
            "make: Nothing to be done for 'opt'.\n",
            "/content\n",
            "Processing /content/fastText\n",
            "Requirement already satisfied: pybind11>=2.2 in /usr/local/lib/python3.6/dist-packages (from fasttext==0.9.2) (2.6.1)\n",
            "Requirement already satisfied: setuptools>=0.7.0 in /usr/local/lib/python3.6/dist-packages (from fasttext==0.9.2) (50.3.2)\n",
            "Requirement already satisfied: numpy in /usr/local/lib/python3.6/dist-packages (from fasttext==0.9.2) (1.18.5)\n",
            "Building wheels for collected packages: fasttext\n",
            "  Building wheel for fasttext (setup.py) ... \u001b[?25l\u001b[?25hdone\n",
            "  Created wheel for fasttext: filename=fasttext-0.9.2-cp36-cp36m-linux_x86_64.whl size=3030909 sha256=7545ef675bfdd6f435a4d739a6881e5888d259d36577919e874657892dc2c741\n",
            "  Stored in directory: /tmp/pip-ephem-wheel-cache-5vkkpjvr/wheels/a1/9f/52/696ce6c5c46325e840c76614ee5051458c0df10306987e7443\n",
            "Successfully built fasttext\n",
            "Installing collected packages: fasttext\n",
            "  Found existing installation: fasttext 0.9.2\n",
            "    Uninstalling fasttext-0.9.2:\n",
            "      Successfully uninstalled fasttext-0.9.2\n",
            "Successfully installed fasttext-0.9.2\n",
            "[nltk_data] Downloading package stopwords to /root/nltk_data...\n",
            "[nltk_data]   Package stopwords is already up-to-date!\n",
            "[nltk_data] Downloading package punkt to /root/nltk_data...\n",
            "[nltk_data]   Package punkt is already up-to-date!\n",
            "[nltk_data] Downloading package wordnet to /root/nltk_data...\n",
            "[nltk_data]   Package wordnet is already up-to-date!\n",
            "Requirement already satisfied: shap in /usr/local/lib/python3.6/dist-packages (0.37.0)\n",
            "Requirement already satisfied: pandas in /usr/local/lib/python3.6/dist-packages (from shap) (1.1.4)\n",
            "Requirement already satisfied: numba in /usr/local/lib/python3.6/dist-packages (from shap) (0.48.0)\n",
            "Requirement already satisfied: slicer==0.0.3 in /usr/local/lib/python3.6/dist-packages (from shap) (0.0.3)\n",
            "Requirement already satisfied: tqdm>4.25.0 in /usr/local/lib/python3.6/dist-packages (from shap) (4.41.1)\n",
            "Requirement already satisfied: scikit-learn in /usr/local/lib/python3.6/dist-packages (from shap) (0.22.2.post1)\n",
            "Requirement already satisfied: numpy in /usr/local/lib/python3.6/dist-packages (from shap) (1.18.5)\n",
            "Requirement already satisfied: scipy in /usr/local/lib/python3.6/dist-packages (from shap) (1.4.1)\n",
            "Requirement already satisfied: pytz>=2017.2 in /usr/local/lib/python3.6/dist-packages (from pandas->shap) (2018.9)\n",
            "Requirement already satisfied: python-dateutil>=2.7.3 in /usr/local/lib/python3.6/dist-packages (from pandas->shap) (2.8.1)\n",
            "Requirement already satisfied: setuptools in /usr/local/lib/python3.6/dist-packages (from numba->shap) (50.3.2)\n",
            "Requirement already satisfied: llvmlite<0.32.0,>=0.31.0dev0 in /usr/local/lib/python3.6/dist-packages (from numba->shap) (0.31.0)\n",
            "Requirement already satisfied: joblib>=0.11 in /usr/local/lib/python3.6/dist-packages (from scikit-learn->shap) (0.17.0)\n",
            "Requirement already satisfied: six>=1.5 in /usr/local/lib/python3.6/dist-packages (from python-dateutil>=2.7.3->pandas->shap) (1.15.0)\n"
          ],
          "name": "stdout"
        }
      ]
    },
    {
      "cell_type": "markdown",
      "metadata": {
        "id": "RAu9oo6V-nG6"
      },
      "source": [
        "##import packages"
      ]
    },
    {
      "cell_type": "code",
      "metadata": {
        "id": "5tBofMTa88Zi"
      },
      "source": [
        "import numpy as np\r\n",
        "import pandas as pd\r\n",
        "pd.options.mode.chained_assignment = None  # default='warn'\r\n",
        "\r\n",
        "import matplotlib.pyplot as plt\r\n",
        "plt.style.use('ggplot')\r\n",
        "import seaborn as sns\r\n",
        "\r\n",
        "from sklearn.model_selection import train_test_split\r\n",
        "from sklearn.pipeline import Pipeline, FeatureUnion \r\n",
        "from sklearn.feature_extraction.text import CountVectorizer, TfidfVectorizer\r\n",
        "from sklearn.preprocessing import FunctionTransformer, StandardScaler, MinMaxScaler\r\n",
        "from sklearn.utils.class_weight import compute_class_weight\r\n",
        "\r\n",
        "from sklearn.linear_model import LogisticRegression\r\n",
        "from sklearn.naive_bayes import MultinomialNB\r\n",
        "from sklearn.linear_model import ElasticNet\r\n",
        "from sklearn.ensemble import StackingClassifier\r\n",
        "import xgboost as xgb\r\n",
        "\r\n",
        "from sklearn.metrics import mean_squared_error\r\n",
        "from sklearn.metrics import f1_score, accuracy_score\r\n",
        "from sklearn.metrics import confusion_matrix\r\n",
        "from sklearn.metrics import classification_report\r\n",
        "\r\n",
        "import nltk\r\n",
        "from nltk.corpus import stopwords\r\n",
        "from nltk.tokenize import word_tokenize\r\n",
        "\r\n",
        "import fasttext\r\n",
        "\r\n",
        "import shap\r\n",
        "import time\r\n",
        "\r\n",
        "#from matplotlib import pyplot as plt\r\n",
        "#from sklearn.model_selection import RepeatedKFold\r\n",
        "import warnings # Ignore warning\r\n",
        "import pickle"
      ],
      "execution_count": null,
      "outputs": []
    },
    {
      "cell_type": "markdown",
      "metadata": {
        "id": "w8kAh4QQTdoY"
      },
      "source": [
        "# data preparation"
      ]
    },
    {
      "cell_type": "markdown",
      "metadata": {
        "id": "qCfaaoHjAYZQ"
      },
      "source": [
        "## import the data - split train/test - class balance"
      ]
    },
    {
      "cell_type": "code",
      "metadata": {
        "colab": {
          "base_uri": "https://localhost:8080/",
          "height": 206
        },
        "id": "FJ4yU70m9FOc",
        "outputId": "932b3a98-9af0-47a7-cd61-f3ff45d6164b"
      },
      "source": [
        "df = pd.read_csv('./train.csv').drop(columns = 'id')\r\n",
        "df.head()"
      ],
      "execution_count": null,
      "outputs": [
        {
          "output_type": "execute_result",
          "data": {
            "text/html": [
              "<div>\n",
              "<style scoped>\n",
              "    .dataframe tbody tr th:only-of-type {\n",
              "        vertical-align: middle;\n",
              "    }\n",
              "\n",
              "    .dataframe tbody tr th {\n",
              "        vertical-align: top;\n",
              "    }\n",
              "\n",
              "    .dataframe thead th {\n",
              "        text-align: right;\n",
              "    }\n",
              "</style>\n",
              "<table border=\"1\" class=\"dataframe\">\n",
              "  <thead>\n",
              "    <tr style=\"text-align: right;\">\n",
              "      <th></th>\n",
              "      <th>text</th>\n",
              "      <th>is_humor</th>\n",
              "      <th>humor_rating</th>\n",
              "      <th>humor_controversy</th>\n",
              "      <th>offense_rating</th>\n",
              "    </tr>\n",
              "  </thead>\n",
              "  <tbody>\n",
              "    <tr>\n",
              "      <th>0</th>\n",
              "      <td>TENNESSEE: We're the best state. Nobody even c...</td>\n",
              "      <td>1</td>\n",
              "      <td>2.42</td>\n",
              "      <td>1.0</td>\n",
              "      <td>0.2</td>\n",
              "    </tr>\n",
              "    <tr>\n",
              "      <th>1</th>\n",
              "      <td>A man inserted an advertisement in the classif...</td>\n",
              "      <td>1</td>\n",
              "      <td>2.50</td>\n",
              "      <td>1.0</td>\n",
              "      <td>1.1</td>\n",
              "    </tr>\n",
              "    <tr>\n",
              "      <th>2</th>\n",
              "      <td>How many men does it take to open a can of bee...</td>\n",
              "      <td>1</td>\n",
              "      <td>1.95</td>\n",
              "      <td>0.0</td>\n",
              "      <td>2.4</td>\n",
              "    </tr>\n",
              "    <tr>\n",
              "      <th>3</th>\n",
              "      <td>Told my mom I hit 1200 Twitter followers. She ...</td>\n",
              "      <td>1</td>\n",
              "      <td>2.11</td>\n",
              "      <td>1.0</td>\n",
              "      <td>0.0</td>\n",
              "    </tr>\n",
              "    <tr>\n",
              "      <th>4</th>\n",
              "      <td>Roses are dead. Love is fake. Weddings are bas...</td>\n",
              "      <td>1</td>\n",
              "      <td>2.78</td>\n",
              "      <td>0.0</td>\n",
              "      <td>0.1</td>\n",
              "    </tr>\n",
              "  </tbody>\n",
              "</table>\n",
              "</div>"
            ],
            "text/plain": [
              "                                                text  ...  offense_rating\n",
              "0  TENNESSEE: We're the best state. Nobody even c...  ...             0.2\n",
              "1  A man inserted an advertisement in the classif...  ...             1.1\n",
              "2  How many men does it take to open a can of bee...  ...             2.4\n",
              "3  Told my mom I hit 1200 Twitter followers. She ...  ...             0.0\n",
              "4  Roses are dead. Love is fake. Weddings are bas...  ...             0.1\n",
              "\n",
              "[5 rows x 5 columns]"
            ]
          },
          "metadata": {
            "tags": []
          },
          "execution_count": 234
        }
      ]
    },
    {
      "cell_type": "markdown",
      "metadata": {
        "id": "N70H-YZbAcIz"
      },
      "source": [
        "## preprocessing functions"
      ]
    },
    {
      "cell_type": "code",
      "metadata": {
        "id": "4N3LhG6w9Ijp"
      },
      "source": [
        "def stemmer(text, stemmer):\r\n",
        "    return(' '.join([stemmer.stem(w) for w in word_tokenize(text)]))\r\n",
        "\r\n",
        "def lemmatize_text(text):\r\n",
        "    lemmatizer = nltk.stem.WordNetLemmatizer()\r\n",
        "    lemm_words = []\r\n",
        "    for w in word_tokenize(text):\r\n",
        "      w = lemmatizer.lemmatize(w,pos='n')\r\n",
        "      w = lemmatizer.lemmatize(w,pos='v')\r\n",
        "      lemm_words.append(w)\r\n",
        "    lemmatized = \" \".join(lemm_words)\r\n",
        "    return lemmatized\r\n",
        "\r\n",
        "def count_words(input):\r\n",
        "    \"\"\" Returns number of occurences of characters specified in char \"\"\"     \r\n",
        "    return len(input.split())\r\n",
        "\r\n",
        "def remove_punctuation(s_input, include_char = None):\r\n",
        "    \"\"\" Returns input string without punctuation \"\"\"\r\n",
        "    import string as String\r\n",
        "    punct = String.punctuation\r\n",
        "    \r\n",
        "    if not include_char is None:\r\n",
        "        index = String.punctuation.index(include_char)\r\n",
        "        punct = String.punctuation[:index] + String.punctuation[(index + 1):]\r\n",
        "        \r\n",
        "    punct += '\\n'\r\n",
        "        \r\n",
        "    translator = str.maketrans(punct, ' '*len(punct))\r\n",
        "    \r\n",
        "    return s_input.translate(translator)\r\n",
        "\r\n",
        "def remove_stopwords(text, use_stopwords = None, df = True, exclude_number = True):\r\n",
        "    \"\"\" Returns input string removing stopwords from it. \"\"\"\r\n",
        "    from nltk.corpus import stopwords\r\n",
        "    from nltk.tokenize import word_tokenize\r\n",
        "    \r\n",
        "    if use_stopwords is None:\r\n",
        "        use_stopwords = set(stopwords.words(\"english\"))\r\n",
        "        \r\n",
        "    if df:\r\n",
        "        new_text = word_tokenize(text)\r\n",
        "        if exclude_number:\r\n",
        "            new_text = [word for word in new_text if not word.isnumeric()]\r\n",
        "        new_text = \" \".join([word for word in new_text if word not in use_stopwords])\r\n",
        "    else:\r\n",
        "        new_text = \"\"\r\n",
        "        for word in text:\r\n",
        "            if word not in use_stopwords:\r\n",
        "                new_text += word + \" \"\r\n",
        "\r\n",
        "    return new_text\r\n",
        "\r\n",
        "def sep_upper(text):\r\n",
        "    \"\"\" Take a text as input and insert space before every uppercase letter. \"\"\"\r\n",
        "    \r\n",
        "    new_text = \"\"\r\n",
        "    for letter in text:\r\n",
        "        if letter.isupper():\r\n",
        "            new_text += \" \" + letter\r\n",
        "        else:\r\n",
        "            new_text += letter\r\n",
        "    \r\n",
        "    return new_text\r\n",
        "\r\n",
        "def remove_space(text):\r\n",
        "    return(re.sub(' +',' ',text))"
      ],
      "execution_count": null,
      "outputs": []
    },
    {
      "cell_type": "code",
      "metadata": {
        "id": "HF6qowJe9N6v"
      },
      "source": [
        "def pre_proc(text_col):\r\n",
        "    text_col = text_col.apply(remove_punctuation) # removes String.punctuation characters\r\n",
        "    #text_col = text_col.apply(remove_stopwords)   # removes english stopwords \r\n",
        "    text_col = text_col.str.replace('[^\\w\\s]','').str.strip() # and removes whitespaces   \r\n",
        "    text_col = text_col.apply(sep_upper) # adds space before an uppercase\r\n",
        "    text_col = text_col.str.lower() # lowercase\r\n",
        "    text_col = text_col.apply(lemmatize_text)     \r\n",
        "    return text_col"
      ],
      "execution_count": null,
      "outputs": []
    },
    {
      "cell_type": "code",
      "metadata": {
        "id": "-dwSJtxqAsLE"
      },
      "source": [
        "def punctuations(s_input):\r\n",
        "    import string as String\r\n",
        "    puncts = [el for el in s_input if el in String.punctuation]   \r\n",
        "    return ''.join(puncts)\r\n",
        "\r\n",
        "def text_len(s_input):\r\n",
        "    ll = s_input.split(' ')\r\n",
        "    return len(ll)\r\n",
        "\r\n",
        "def word_len(s_input):\r\n",
        "    return len(s_input)\r\n",
        "\r\n",
        "def quotes(s_input):\r\n",
        "    return s_input.count('\"')\r\n",
        "\r\n",
        "def dots(s_input):\r\n",
        "    return s_input.count('.')\r\n",
        "\r\n",
        "def exclMk(s_input):\r\n",
        "    return s_input.count('!')\r\n",
        "\r\n",
        "def questMk(s_input):\r\n",
        "    return s_input.count('?')\r\n",
        "\r\n",
        "def extraFeats(df):\r\n",
        "  df['punct_'] = df.text_.apply(punctuations) \r\n",
        "  df['punct_len'] = df.punct_.apply(word_len) / df['qtd_words']\r\n",
        "  df['word_len'] = df.text_.apply(word_len) / df['qtd_words']\r\n",
        "  df['quotes_'] = df.text_.apply(quotes) / df['qtd_words']\r\n",
        "  df['dots_'] = df.text_.apply(dots) / df['qtd_words']\r\n",
        "  df['exclMk_'] = df.text_.apply(exclMk) / df['qtd_words']\r\n",
        "  df['questMk_'] = df.text_.apply(questMk) / df['qtd_words']\r\n",
        "  return df"
      ],
      "execution_count": null,
      "outputs": []
    },
    {
      "cell_type": "code",
      "metadata": {
        "id": "asai9smS9e_4"
      },
      "source": [
        "vectorizer = CountVectorizer(max_features=4_000)\r\n",
        "\r\n",
        "def fullPreProcess(dfx,fit=True):\r\n",
        "  global vectorizer\r\n",
        "  dfx['processed_text'] = pre_proc(dfx.text_)\r\n",
        "  dfx['qtd_words'] = dfx.processed_text.apply(count_words)\r\n",
        "  dfx = extraFeats(dfx)\r\n",
        "  if fit:\r\n",
        "    dfx_trans = pd.DataFrame(vectorizer.fit_transform(dfx.processed_text).toarray()\r\n",
        "                             , columns = vectorizer.get_feature_names()\r\n",
        "                             , index = dfx.index)\r\n",
        "  else:\r\n",
        "    dfx_trans = pd.DataFrame(vectorizer.transform(dfx.processed_text).toarray()\r\n",
        "                             , columns = vectorizer.get_feature_names()\r\n",
        "                             , index = dfx.index)\r\n",
        "  dfx_trans = pd.concat([dfx_trans,dfx],axis=1)\r\n",
        "  dfx_trans['qtd_words'] = dfx.processed_text.apply(count_words)\r\n",
        "  return dfx_trans\r\n"
      ],
      "execution_count": null,
      "outputs": []
    },
    {
      "cell_type": "code",
      "metadata": {
        "id": "SDtghfrvBfQz"
      },
      "source": [
        "# convenience class to wrap FastText to comply with skklearn estimator interface (fit,predict,predict_proba methods)\r\n",
        "from sklearn.base import BaseEstimator, ClassifierMixin\r\n",
        "from sklearn.utils.validation import check_X_y, check_array, check_is_fitted\r\n",
        "from sklearn.utils.multiclass import unique_labels\r\n",
        "from sklearn.metrics import euclidean_distances\r\n",
        "\r\n",
        "class AsigmoFastText(BaseEstimator,ClassifierMixin):\r\n",
        "  def __init__(self,input='./trainset.txt',lr=1.0, epoch=5,wordNgrams=1,ws=5,verbose=2):\r\n",
        "    self.input = input\r\n",
        "    self.lr = lr \r\n",
        "    self.epoch = epoch\r\n",
        "    self.wordNgrams = wordNgrams\r\n",
        "    self.ws = ws\r\n",
        "    self.verbose = verbose  \r\n",
        "  \r\n",
        "  def get_params(self,deep=True):\r\n",
        "    return {'input':self.input,\r\n",
        "            'lr':self.lr,\r\n",
        "            'epoch':self.epoch,\r\n",
        "            'wordNgrams':self.wordNgrams,\r\n",
        "            'ws':self.ws,\r\n",
        "            'verbose':self.verbose}\r\n",
        "  \r\n",
        "  def set_params(self,**parameters):\r\n",
        "    for parameter, value in parameters.items():\r\n",
        "        setattr(self, parameter, value)\r\n",
        "    return self\r\n",
        "\r\n",
        "  def toFastTextFormat(self,series_x,series_y,input):\r\n",
        "    \"\"\" \r\n",
        "    transforms the data to a text file following \r\n",
        "    the format required by L{fasttext.train_supervised}, that is, a text file\r\n",
        "    where each line is a sentence preceded by the labels with format: \r\n",
        "    C{__label__<label1> <sentence>}\r\n",
        "    This function only allows one label\r\n",
        "\r\n",
        "\r\n",
        "    @param series_x : a pandas series of str, named \"text\", with the sentences\r\n",
        "    @type series_x: pandas.Series\r\n",
        "    @param series_y : a pandas series with the labels for \"text\"\r\n",
        "    @type series_y: pandas.Series\r\n",
        "    @param input: the path for the text file to save\r\n",
        "    @type input: str\r\n",
        "\r\n",
        "    @return: None \r\n",
        "    \"\"\"\r\n",
        "    xx = pd.DataFrame(series_x)\r\n",
        "    xx['label'] = series_y\r\n",
        "    xx['ft_label'] = '__label__'+xx['label'].astype(str)\r\n",
        "    xx['ft_sent'] = xx['ft_label'] + ' ' + xx['processed_text']\r\n",
        "    ft_text = xx.ft_sent.str.cat(sep='\\n')\r\n",
        "\r\n",
        "    with open(input,\"w\") as fl:\r\n",
        "      fl.write(ft_text)\r\n",
        "\r\n",
        "  def fit(self,x_train,y_train):\r\n",
        "    # x_train, y_train = check_X_y(x_train, y_train, dtype=None)\r\n",
        "    # x_train = check_array(x_train, dtype = None)\r\n",
        "    self.X_ = x_train.copy()\r\n",
        "    self.y_ = y_train.copy()\r\n",
        "    self.classes_ = unique_labels(self.y_)\r\n",
        "    self.toFastTextFormat(self.X_, self.y_, self.input)\r\n",
        "    self.model = fasttext.train_supervised(input=self.input,lr=self.lr, epoch=self.epoch,wordNgrams=self.wordNgrams,ws=self.ws,verbose=self.verbose)\r\n",
        "    self.model.save_model('./model.bin') ###\r\n",
        "    return self\r\n",
        "\r\n",
        "  def predict_proba(self,x_test):\r\n",
        "    check_is_fitted(self, ['X_', 'y_'])   \r\n",
        "    # x_test = check_array(x_test, dtype = None)# Input validation\r\n",
        "\r\n",
        "    dff = x_test['processed_text']  \r\n",
        "    def fastTextPredProba(df):      \r\n",
        "      lbl = self.model.predict(df)[0][0][-1] #get the label assigned \"__label__<#>\" -> <#>\r\n",
        "      proba_raw = float(self.model.predict(df)[1][0]) #get the probability score (it is an array)\r\n",
        "      proba_raw = 1.0 if proba_raw > 1 else proba_raw\r\n",
        "      proba_raw = 0.0 if proba_raw < 0 else proba_raw\r\n",
        "      if int(lbl) == 1:\r\n",
        "        return pd.Series([1-proba_raw,proba_raw])\r\n",
        "      else:\r\n",
        "        return pd.Series([proba_raw,1-proba_raw])   \r\n",
        "    return dff.apply(fastTextPredProba).to_numpy()\r\n",
        "\r\n",
        "  def predict(self,x_test): \r\n",
        "    check_is_fitted(self, ['X_', 'y_'])   \r\n",
        "    # x_test = check_array(x_test, dtype = None) # Input validation\r\n",
        "\r\n",
        "    dff = x_test['processed_text']  \r\n",
        "    def fastTextPred(df):      \r\n",
        "      lbl = self.model.predict(df)[0][0][-1] #get the label assigned \"__label__<#>\" -> <#>\r\n",
        "      return int(lbl)\r\n",
        "    return dff.apply(fastTextPred)"
      ],
      "execution_count": null,
      "outputs": []
    },
    {
      "cell_type": "markdown",
      "metadata": {
        "id": "0UKcVBeej8zV"
      },
      "source": [
        "# 1a => is_humor"
      ]
    },
    {
      "cell_type": "code",
      "metadata": {
        "id": "MDaZIe529XPg"
      },
      "source": [
        "X = df[['text']] #4932 Do not reset the index!\r\n",
        "X.columns = ['text_']\r\n",
        "y = df[['is_humor']] #4932"
      ],
      "execution_count": null,
      "outputs": []
    },
    {
      "cell_type": "code",
      "metadata": {
        "colab": {
          "base_uri": "https://localhost:8080/",
          "height": 36
        },
        "id": "Jb-l_hgH9Zlh",
        "outputId": "998eff2f-fbff-424f-e586-7817c5d8b993"
      },
      "source": [
        "X_train, X_test, y_train, y_test = train_test_split(X, y, test_size = 0.2, random_state = 21)\r\n",
        "\"X_train and y_train shape: {0}, {1}, X_test and y_test shape {2}, {3}\".format(X_train.shape, y_train.shape, X_test.shape, y_test.shape)\r\n",
        "\r\n"
      ],
      "execution_count": null,
      "outputs": [
        {
          "output_type": "execute_result",
          "data": {
            "application/vnd.google.colaboratory.intrinsic+json": {
              "type": "string"
            },
            "text/plain": [
              "'X_train and y_train shape: (6400, 1), (6400, 1), X_test and y_test shape (1600, 1), (1600, 1)'"
            ]
          },
          "metadata": {
            "tags": []
          },
          "execution_count": 250
        }
      ]
    },
    {
      "cell_type": "code",
      "metadata": {
        "colab": {
          "base_uri": "https://localhost:8080/"
        },
        "id": "MjeT6Hrg9bya",
        "outputId": "8795d543-4f99-4c3a-ea25-fc1987652d01"
      },
      "source": [
        "total = len(y_train)\r\n",
        "print('% of positives is ', round(y_train.sum()/total, 2)) #'% of positives is {:.2f}'.format(y_train.sum()/total)\r\n",
        "print('% of negatives is ', round((total - y_train.sum())/total, 2)) #'% of negatives is {:.2f}'.format((total - y_train.sum())/total)\r\n",
        "\r\n",
        "class_labels = np.unique(y_train)\r\n",
        "class_weights = compute_class_weight(class_weight='balanced', classes=class_labels,y= y_train['is_humor'])\r\n",
        "class_weights_dict = dict(zip(class_labels, class_weights))\r\n",
        "print('class weights: ',class_weights_dict)"
      ],
      "execution_count": null,
      "outputs": [
        {
          "output_type": "stream",
          "text": [
            "% of positives is  is_humor    0.61\n",
            "dtype: float64\n",
            "% of negatives is  is_humor    0.39\n",
            "dtype: float64\n",
            "class weights:  {0: 1.29764801297648, 1: 0.813421453990849}\n"
          ],
          "name": "stdout"
        }
      ]
    },
    {
      "cell_type": "markdown",
      "metadata": {
        "id": "hP9NtTy-AhBo"
      },
      "source": [
        "## preprocessing"
      ]
    },
    {
      "cell_type": "code",
      "metadata": {
        "id": "IyiAJmDCmEUZ"
      },
      "source": [
        "X_train_trans = fullPreProcess(X_train,fit=True)\r\n",
        "X_test_trans = fullPreProcess(X_test,fit=False)"
      ],
      "execution_count": null,
      "outputs": []
    },
    {
      "cell_type": "code",
      "metadata": {
        "id": "4U8ZZFVb7XAs"
      },
      "source": [
        "get_numerical_data = FunctionTransformer(lambda x: x[x.columns.difference(['text_','processed_text','punct_'],sort=False)], validate=False)"
      ],
      "execution_count": null,
      "outputs": []
    },
    {
      "cell_type": "markdown",
      "metadata": {
        "id": "lhhHqvcQWUk_"
      },
      "source": [
        "## independent models (pre-ensemble)"
      ]
    },
    {
      "cell_type": "markdown",
      "metadata": {
        "id": "gFu_17-HTFgd"
      },
      "source": [
        "### Multinomial NB model"
      ]
    },
    {
      "cell_type": "code",
      "metadata": {
        "colab": {
          "base_uri": "https://localhost:8080/"
        },
        "id": "_CprA4uZ9j8g",
        "outputId": "2f05ba5d-2643-43ce-aade-20dcc8fe6b0b"
      },
      "source": [
        "trans_mnb = Pipeline([\r\n",
        "    ('num_data',get_numerical_data),\r\n",
        "    ('clf',MultinomialNB())])\r\n",
        "\r\n",
        "trans_mnb.fit(X_train_trans, y_train.is_humor)\r\n",
        "\r\n",
        "# quick check\r\n",
        "trans_mnb.score(X_test_trans,y_test.is_humor)"
      ],
      "execution_count": null,
      "outputs": [
        {
          "output_type": "execute_result",
          "data": {
            "text/plain": [
              "0.85125"
            ]
          },
          "metadata": {
            "tags": []
          },
          "execution_count": 254
        }
      ]
    },
    {
      "cell_type": "markdown",
      "metadata": {
        "id": "5nUz58rjV0bu"
      },
      "source": [
        "### Logistic Regression"
      ]
    },
    {
      "cell_type": "code",
      "metadata": {
        "colab": {
          "base_uri": "https://localhost:8080/"
        },
        "id": "lz-986NYV3MY",
        "outputId": "28dcf8e0-74a7-48df-821a-47ec4d3961c5"
      },
      "source": [
        "trans_logit = Pipeline([\r\n",
        "    ('num_data',get_numerical_data),\r\n",
        "    ('clf',LogisticRegression(C=100,penalty='l2',max_iter=10000,tol=0.001,class_weight=class_weights,random_state=42))])\r\n",
        "\r\n",
        "trans_logit.fit(X_train_trans, y_train.is_humor)\r\n",
        "\r\n",
        "# quick check\r\n",
        "trans_logit.score(X_test_trans,y_test.is_humor)"
      ],
      "execution_count": null,
      "outputs": [
        {
          "output_type": "stream",
          "text": [
            "elementwise comparison failed; returning scalar instead, but in the future will perform elementwise comparison\n"
          ],
          "name": "stderr"
        },
        {
          "output_type": "execute_result",
          "data": {
            "text/plain": [
              "0.8075"
            ]
          },
          "metadata": {
            "tags": []
          },
          "execution_count": 133
        }
      ]
    },
    {
      "cell_type": "markdown",
      "metadata": {
        "id": "05OH3xJLVNib"
      },
      "source": [
        "### XGBoost model"
      ]
    },
    {
      "cell_type": "code",
      "metadata": {
        "colab": {
          "base_uri": "https://localhost:8080/"
        },
        "id": "CjZICRqDVTd2",
        "outputId": "54e9a197-9c22-4f38-f0da-eb1887a2910a"
      },
      "source": [
        "trans_xgb = Pipeline([\r\n",
        "    ('num_data',get_numerical_data),\r\n",
        "    ('clf',xgb.XGBClassifier(max_depth=4))])\r\n",
        "\r\n",
        "trans_xgb.fit(X_train_trans, y_train.is_humor)\r\n",
        "\r\n",
        "# quick check\r\n",
        "trans_xgb.score(X_test_trans,y_test.is_humor)"
      ],
      "execution_count": null,
      "outputs": [
        {
          "output_type": "execute_result",
          "data": {
            "text/plain": [
              "0.824375"
            ]
          },
          "metadata": {
            "tags": []
          },
          "execution_count": 134
        }
      ]
    },
    {
      "cell_type": "markdown",
      "metadata": {
        "id": "G4qTBc-RWwpK"
      },
      "source": [
        "### FastText - word context vector embedding"
      ]
    },
    {
      "cell_type": "code",
      "metadata": {
        "colab": {
          "base_uri": "https://localhost:8080/"
        },
        "id": "G-_kZb1kX1RI",
        "outputId": "23733fdf-082f-493a-f0a9-145be292a591"
      },
      "source": [
        "ft = AsigmoFastText(input='./train.txt',lr=0.3,epoch=50,wordNgrams=3,ws=10)\r\n",
        "ft.fit(X_train_trans,y_train.is_humor)\r\n",
        "\r\n",
        "# quick test\r\n",
        "y_pred = ft.predict(X_test_trans)\r\n",
        "accuracy_score(y_test.is_humor,y_pred)"
      ],
      "execution_count": null,
      "outputs": [
        {
          "output_type": "execute_result",
          "data": {
            "text/plain": [
              "0.865"
            ]
          },
          "metadata": {
            "tags": []
          },
          "execution_count": 265
        }
      ]
    },
    {
      "cell_type": "markdown",
      "metadata": {
        "id": "YskI_jmNZQ1D"
      },
      "source": [
        "### visualization of model performance"
      ]
    },
    {
      "cell_type": "code",
      "metadata": {
        "id": "-8vx-OD0Z51X"
      },
      "source": [
        "modelEvaluation = y_test.copy()\r\n",
        "modelEvaluation['mnb_proba'] = trans_mnb.predict_proba(X_test_trans)[:,1]\r\n",
        "#modelEvaluation['logit_proba'] = trans_logit.predict_proba(X_test_trans)[:,1]\r\n",
        "#modelEvaluation['xgb_proba'] = trans_xgb.predict_proba(X_test_trans)[:,1]\r\n",
        "modelEvaluation['fastText_proba'] = ft.predict_proba(X_test_trans)[:,1]"
      ],
      "execution_count": null,
      "outputs": []
    },
    {
      "cell_type": "code",
      "metadata": {
        "colab": {
          "base_uri": "https://localhost:8080/",
          "height": 392
        },
        "id": "38HnM2ZcZPu3",
        "outputId": "a956c257-b988-4645-9a3e-5500bf25daa1"
      },
      "source": [
        "sns.pairplot(data=modelEvaluation,hue='is_humor',kind='kde',diag_kind='kde')"
      ],
      "execution_count": null,
      "outputs": [
        {
          "output_type": "execute_result",
          "data": {
            "text/plain": [
              "<seaborn.axisgrid.PairGrid at 0x7fb5bbc46ac8>"
            ]
          },
          "metadata": {
            "tags": []
          },
          "execution_count": 267
        },
        {
          "output_type": "display_data",
          "data": {
            "image/png": "[encoded data removed]",
            "text/plain": [
              "<Figure size 413.625x360 with 6 Axes>"
            ]
          },
          "metadata": {
            "tags": []
          }
        }
      ]
    },
    {
      "cell_type": "markdown",
      "metadata": {
        "id": "Pon2_L_OZIdj"
      },
      "source": [
        "## ensemble model"
      ]
    },
    {
      "cell_type": "code",
      "metadata": {
        "id": "WS_INioFVCtR"
      },
      "source": [
        "trans_mnb = Pipeline([\r\n",
        "    ('num_data',get_numerical_data),\r\n",
        "    ('clf',MultinomialNB())])\r\n",
        "\r\n",
        "trans_logit = Pipeline([\r\n",
        "    ('num_data',get_numerical_data),\r\n",
        "    ('clf',LogisticRegression(C=100,penalty='l2',max_iter=10000,tol=0.001,class_weight=class_weights,random_state=42))])\r\n",
        "\r\n",
        "trans_xgb = Pipeline([\r\n",
        "    ('num_data',get_numerical_data),\r\n",
        "    ('clf',xgb.XGBClassifier(max_depth=4))])\r\n",
        "\r\n",
        "estimators =[#('lr',trans_logit),\r\n",
        "             ('mnb',trans_mnb),\r\n",
        "             #('xgb',trans_xgb),\r\n",
        "             ('fasttext',AsigmoFastText(input='./train_text.txt',lr=0.3,epoch=50,wordNgrams=3,ws=10))]\r\n",
        "\r\n",
        "stackClassif = StackingClassifier(estimators=estimators,\r\n",
        "                                  final_estimator=LogisticRegression(random_state=42))"
      ],
      "execution_count": null,
      "outputs": []
    },
    {
      "cell_type": "code",
      "metadata": {
        "colab": {
          "base_uri": "https://localhost:8080/"
        },
        "id": "9uHZZmndcDWK",
        "outputId": "f33786bf-e94f-4080-d499-99ab3b4f79d9"
      },
      "source": [
        "stackClassif.fit(X_train_trans,y_train.is_humor)\r\n"
      ],
      "execution_count": null,
      "outputs": [
        {
          "output_type": "execute_result",
          "data": {
            "text/plain": [
              "StackingClassifier(cv=None,\n",
              "                   estimators=[('mnb',\n",
              "                                Pipeline(memory=None,\n",
              "                                         steps=[('num_data',\n",
              "                                                 FunctionTransformer(accept_sparse=False,\n",
              "                                                                     check_inverse=True,\n",
              "                                                                     func=<function <lambda> at 0x7fb5bb78fd90>,\n",
              "                                                                     inv_kw_args=None,\n",
              "                                                                     inverse_func=None,\n",
              "                                                                     kw_args=None,\n",
              "                                                                     validate=False)),\n",
              "                                                ('clf',\n",
              "                                                 MultinomialNB(alpha=1.0,\n",
              "                                                               class_prior=None,\n",
              "                                                               fit_prior=True))],\n",
              "                                         verbose=False)),\n",
              "                               ('fasttext',\n",
              "                                Asigmo...\n",
              "                                               input='./train_text.txt', lr=0.3,\n",
              "                                               verbose=2, wordNgrams=3,\n",
              "                                               ws=10))],\n",
              "                   final_estimator=LogisticRegression(C=1.0, class_weight=None,\n",
              "                                                      dual=False,\n",
              "                                                      fit_intercept=True,\n",
              "                                                      intercept_scaling=1,\n",
              "                                                      l1_ratio=None,\n",
              "                                                      max_iter=100,\n",
              "                                                      multi_class='auto',\n",
              "                                                      n_jobs=None, penalty='l2',\n",
              "                                                      random_state=42,\n",
              "                                                      solver='lbfgs',\n",
              "                                                      tol=0.0001, verbose=0,\n",
              "                                                      warm_start=False),\n",
              "                   n_jobs=None, passthrough=False, stack_method='auto',\n",
              "                   verbose=0)"
            ]
          },
          "metadata": {
            "tags": []
          },
          "execution_count": 269
        }
      ]
    },
    {
      "cell_type": "code",
      "metadata": {
        "colab": {
          "base_uri": "https://localhost:8080/"
        },
        "id": "g5hQTfcTcK3c",
        "outputId": "619d23dd-c7a1-4dfa-ed1f-bb21003bf347"
      },
      "source": [
        "y_pred = stackClassif.predict(X_test_trans)\r\n",
        "acc = accuracy_score(y_test.is_humor,y_pred)\r\n",
        "f1 = f1_score(y_test.is_humor,y_pred)\r\n",
        "print(\"ensemble model: \\n\\t {}% accuracy,\\n\\t {}% f1 score.\\n\\n confusion matrix:\".format(100*acc,100*f1))\r\n",
        "confusion_matrix(y_test.is_humor,y_pred)"
      ],
      "execution_count": null,
      "outputs": [
        {
          "output_type": "stream",
          "text": [
            "ensemble model: \n",
            "\t 87.5625% accuracy,\n",
            "\t 90.08470353761832% f1 score.\n",
            "\n",
            " confusion matrix:\n"
          ],
          "name": "stdout"
        },
        {
          "output_type": "execute_result",
          "data": {
            "text/plain": [
              "array([[497, 105],\n",
              "       [ 94, 904]])"
            ]
          },
          "metadata": {
            "tags": []
          },
          "execution_count": 270
        }
      ]
    },
    {
      "cell_type": "markdown",
      "metadata": {
        "id": "S7ake6yEkU6F"
      },
      "source": [
        "### visualization"
      ]
    },
    {
      "cell_type": "code",
      "metadata": {
        "id": "FNwWxYddgkMT"
      },
      "source": [
        "modelEvaluation['ensemble_proba'] = stackClassif.predict_proba(X_test_trans)[:,1]"
      ],
      "execution_count": null,
      "outputs": []
    },
    {
      "cell_type": "code",
      "metadata": {
        "colab": {
          "base_uri": "https://localhost:8080/",
          "height": 568
        },
        "id": "9nc4EEr-hGRN",
        "outputId": "036ee640-50e8-49fd-d720-57a704ad4178"
      },
      "source": [
        "sns.pairplot(data=modelEvaluation,hue='is_humor',kind='kde',diag_kind='kde')"
      ],
      "execution_count": null,
      "outputs": [
        {
          "output_type": "execute_result",
          "data": {
            "text/plain": [
              "<seaborn.axisgrid.PairGrid at 0x7fb5bd27c668>"
            ]
          },
          "metadata": {
            "tags": []
          },
          "execution_count": 272
        },
        {
          "output_type": "display_data",
          "data": {
            "image/png": "[encoded data removed]",
            "text/plain": [
              "<Figure size 593.625x540 with 12 Axes>"
            ]
          },
          "metadata": {
            "tags": []
          }
        }
      ]
    },
    {
      "cell_type": "markdown",
      "metadata": {
        "id": "Iqjvb-9B0q_n"
      },
      "source": [
        "### transparency visualization (shap)"
      ]
    },
    {
      "cell_type": "code",
      "metadata": {
        "colab": {
          "base_uri": "https://localhost:8080/",
          "height": 1000
        },
        "id": "2xk-L1O91xdP",
        "outputId": "8cc068f7-08cd-4343-d3f6-56f937963b27"
      },
      "source": [
        "X_train_trans"
      ],
      "execution_count": null,
      "outputs": [
        {
          "output_type": "execute_result",
          "data": {
            "text/html": [
              "<div>\n",
              "<style scoped>\n",
              "    .dataframe tbody tr th:only-of-type {\n",
              "        vertical-align: middle;\n",
              "    }\n",
              "\n",
              "    .dataframe tbody tr th {\n",
              "        vertical-align: top;\n",
              "    }\n",
              "\n",
              "    .dataframe thead th {\n",
              "        text-align: right;\n",
              "    }\n",
              "</style>\n",
              "<table border=\"1\" class=\"dataframe\">\n",
              "  <thead>\n",
              "    <tr style=\"text-align: right;\">\n",
              "      <th></th>\n",
              "      <th>00</th>\n",
              "      <th>000</th>\n",
              "      <th>03</th>\n",
              "      <th>10</th>\n",
              "      <th>100</th>\n",
              "      <th>1000</th>\n",
              "      <th>11</th>\n",
              "      <th>12</th>\n",
              "      <th>13</th>\n",
              "      <th>14</th>\n",
              "      <th>15</th>\n",
              "      <th>150</th>\n",
              "      <th>16</th>\n",
              "      <th>17</th>\n",
              "      <th>18</th>\n",
              "      <th>180</th>\n",
              "      <th>19</th>\n",
              "      <th>1940</th>\n",
              "      <th>1984</th>\n",
              "      <th>1st</th>\n",
              "      <th>20</th>\n",
              "      <th>200</th>\n",
              "      <th>200th</th>\n",
              "      <th>2012</th>\n",
              "      <th>2013</th>\n",
              "      <th>2014</th>\n",
              "      <th>2015</th>\n",
              "      <th>2017</th>\n",
              "      <th>2018</th>\n",
              "      <th>2019</th>\n",
              "      <th>2020</th>\n",
              "      <th>21</th>\n",
              "      <th>22</th>\n",
              "      <th>23</th>\n",
              "      <th>24</th>\n",
              "      <th>25</th>\n",
              "      <th>26</th>\n",
              "      <th>29</th>\n",
              "      <th>2nd</th>\n",
              "      <th>30</th>\n",
              "      <th>...</th>\n",
              "      <th>yes</th>\n",
              "      <th>yesterday</th>\n",
              "      <th>yet</th>\n",
              "      <th>yo</th>\n",
              "      <th>yoda</th>\n",
              "      <th>yodas</th>\n",
              "      <th>yoga</th>\n",
              "      <th>yoghurt</th>\n",
              "      <th>yogurt</th>\n",
              "      <th>yoko</th>\n",
              "      <th>york</th>\n",
              "      <th>you</th>\n",
              "      <th>young</th>\n",
              "      <th>younger</th>\n",
              "      <th>youngest</th>\n",
              "      <th>your</th>\n",
              "      <th>youre</th>\n",
              "      <th>yours</th>\n",
              "      <th>yourself</th>\n",
              "      <th>youth</th>\n",
              "      <th>youtube</th>\n",
              "      <th>yr</th>\n",
              "      <th>yum</th>\n",
              "      <th>yup</th>\n",
              "      <th>zero</th>\n",
              "      <th>zombie</th>\n",
              "      <th>zone</th>\n",
              "      <th>zoo</th>\n",
              "      <th>zookeeper</th>\n",
              "      <th>âï</th>\n",
              "      <th>text_</th>\n",
              "      <th>processed_text</th>\n",
              "      <th>qtd_words</th>\n",
              "      <th>punct_</th>\n",
              "      <th>punct_len</th>\n",
              "      <th>word_len</th>\n",
              "      <th>quotes_</th>\n",
              "      <th>dots_</th>\n",
              "      <th>exclMk_</th>\n",
              "      <th>questMk_</th>\n",
              "    </tr>\n",
              "  </thead>\n",
              "  <tbody>\n",
              "    <tr>\n",
              "      <th>2283</th>\n",
              "      <td>0</td>\n",
              "      <td>0</td>\n",
              "      <td>0</td>\n",
              "      <td>0</td>\n",
              "      <td>0</td>\n",
              "      <td>0</td>\n",
              "      <td>0</td>\n",
              "      <td>0</td>\n",
              "      <td>0</td>\n",
              "      <td>0</td>\n",
              "      <td>0</td>\n",
              "      <td>0</td>\n",
              "      <td>0</td>\n",
              "      <td>0</td>\n",
              "      <td>0</td>\n",
              "      <td>0</td>\n",
              "      <td>0</td>\n",
              "      <td>0</td>\n",
              "      <td>0</td>\n",
              "      <td>0</td>\n",
              "      <td>0</td>\n",
              "      <td>0</td>\n",
              "      <td>0</td>\n",
              "      <td>0</td>\n",
              "      <td>0</td>\n",
              "      <td>0</td>\n",
              "      <td>0</td>\n",
              "      <td>0</td>\n",
              "      <td>0</td>\n",
              "      <td>0</td>\n",
              "      <td>0</td>\n",
              "      <td>0</td>\n",
              "      <td>0</td>\n",
              "      <td>0</td>\n",
              "      <td>0</td>\n",
              "      <td>0</td>\n",
              "      <td>0</td>\n",
              "      <td>0</td>\n",
              "      <td>0</td>\n",
              "      <td>0</td>\n",
              "      <td>...</td>\n",
              "      <td>0</td>\n",
              "      <td>0</td>\n",
              "      <td>0</td>\n",
              "      <td>0</td>\n",
              "      <td>0</td>\n",
              "      <td>0</td>\n",
              "      <td>0</td>\n",
              "      <td>0</td>\n",
              "      <td>0</td>\n",
              "      <td>0</td>\n",
              "      <td>0</td>\n",
              "      <td>0</td>\n",
              "      <td>0</td>\n",
              "      <td>0</td>\n",
              "      <td>0</td>\n",
              "      <td>0</td>\n",
              "      <td>0</td>\n",
              "      <td>0</td>\n",
              "      <td>0</td>\n",
              "      <td>0</td>\n",
              "      <td>0</td>\n",
              "      <td>0</td>\n",
              "      <td>0</td>\n",
              "      <td>0</td>\n",
              "      <td>0</td>\n",
              "      <td>0</td>\n",
              "      <td>0</td>\n",
              "      <td>0</td>\n",
              "      <td>0</td>\n",
              "      <td>0</td>\n",
              "      <td>Imagine working for millions of years on somet...</td>\n",
              "      <td>imagine work for million of year on something ...</td>\n",
              "      <td>39</td>\n",
              "      <td>.'-.</td>\n",
              "      <td>0.102564</td>\n",
              "      <td>5.282051</td>\n",
              "      <td>0.000000</td>\n",
              "      <td>0.051282</td>\n",
              "      <td>0.0</td>\n",
              "      <td>0.000000</td>\n",
              "    </tr>\n",
              "    <tr>\n",
              "      <th>2650</th>\n",
              "      <td>0</td>\n",
              "      <td>0</td>\n",
              "      <td>0</td>\n",
              "      <td>0</td>\n",
              "      <td>0</td>\n",
              "      <td>0</td>\n",
              "      <td>0</td>\n",
              "      <td>0</td>\n",
              "      <td>0</td>\n",
              "      <td>0</td>\n",
              "      <td>0</td>\n",
              "      <td>0</td>\n",
              "      <td>0</td>\n",
              "      <td>0</td>\n",
              "      <td>0</td>\n",
              "      <td>0</td>\n",
              "      <td>0</td>\n",
              "      <td>0</td>\n",
              "      <td>0</td>\n",
              "      <td>0</td>\n",
              "      <td>0</td>\n",
              "      <td>0</td>\n",
              "      <td>0</td>\n",
              "      <td>0</td>\n",
              "      <td>0</td>\n",
              "      <td>0</td>\n",
              "      <td>0</td>\n",
              "      <td>0</td>\n",
              "      <td>0</td>\n",
              "      <td>0</td>\n",
              "      <td>0</td>\n",
              "      <td>0</td>\n",
              "      <td>0</td>\n",
              "      <td>0</td>\n",
              "      <td>0</td>\n",
              "      <td>0</td>\n",
              "      <td>0</td>\n",
              "      <td>0</td>\n",
              "      <td>0</td>\n",
              "      <td>0</td>\n",
              "      <td>...</td>\n",
              "      <td>0</td>\n",
              "      <td>0</td>\n",
              "      <td>0</td>\n",
              "      <td>0</td>\n",
              "      <td>0</td>\n",
              "      <td>0</td>\n",
              "      <td>0</td>\n",
              "      <td>0</td>\n",
              "      <td>0</td>\n",
              "      <td>0</td>\n",
              "      <td>0</td>\n",
              "      <td>1</td>\n",
              "      <td>0</td>\n",
              "      <td>0</td>\n",
              "      <td>0</td>\n",
              "      <td>0</td>\n",
              "      <td>0</td>\n",
              "      <td>0</td>\n",
              "      <td>0</td>\n",
              "      <td>0</td>\n",
              "      <td>0</td>\n",
              "      <td>0</td>\n",
              "      <td>0</td>\n",
              "      <td>0</td>\n",
              "      <td>0</td>\n",
              "      <td>0</td>\n",
              "      <td>0</td>\n",
              "      <td>0</td>\n",
              "      <td>0</td>\n",
              "      <td>0</td>\n",
              "      <td>What's the difference between a gay man and a ...</td>\n",
              "      <td>what s the difference between a gay man and a ...</td>\n",
              "      <td>21</td>\n",
              "      <td>'?'.</td>\n",
              "      <td>0.190476</td>\n",
              "      <td>4.904762</td>\n",
              "      <td>0.000000</td>\n",
              "      <td>0.047619</td>\n",
              "      <td>0.0</td>\n",
              "      <td>0.047619</td>\n",
              "    </tr>\n",
              "    <tr>\n",
              "      <th>1871</th>\n",
              "      <td>0</td>\n",
              "      <td>0</td>\n",
              "      <td>0</td>\n",
              "      <td>0</td>\n",
              "      <td>0</td>\n",
              "      <td>0</td>\n",
              "      <td>0</td>\n",
              "      <td>0</td>\n",
              "      <td>0</td>\n",
              "      <td>0</td>\n",
              "      <td>0</td>\n",
              "      <td>0</td>\n",
              "      <td>0</td>\n",
              "      <td>0</td>\n",
              "      <td>0</td>\n",
              "      <td>0</td>\n",
              "      <td>0</td>\n",
              "      <td>0</td>\n",
              "      <td>0</td>\n",
              "      <td>0</td>\n",
              "      <td>0</td>\n",
              "      <td>0</td>\n",
              "      <td>0</td>\n",
              "      <td>0</td>\n",
              "      <td>0</td>\n",
              "      <td>0</td>\n",
              "      <td>0</td>\n",
              "      <td>0</td>\n",
              "      <td>0</td>\n",
              "      <td>0</td>\n",
              "      <td>0</td>\n",
              "      <td>0</td>\n",
              "      <td>0</td>\n",
              "      <td>0</td>\n",
              "      <td>0</td>\n",
              "      <td>0</td>\n",
              "      <td>0</td>\n",
              "      <td>0</td>\n",
              "      <td>0</td>\n",
              "      <td>0</td>\n",
              "      <td>...</td>\n",
              "      <td>0</td>\n",
              "      <td>0</td>\n",
              "      <td>1</td>\n",
              "      <td>0</td>\n",
              "      <td>0</td>\n",
              "      <td>0</td>\n",
              "      <td>0</td>\n",
              "      <td>0</td>\n",
              "      <td>0</td>\n",
              "      <td>0</td>\n",
              "      <td>0</td>\n",
              "      <td>0</td>\n",
              "      <td>0</td>\n",
              "      <td>0</td>\n",
              "      <td>0</td>\n",
              "      <td>1</td>\n",
              "      <td>0</td>\n",
              "      <td>0</td>\n",
              "      <td>0</td>\n",
              "      <td>0</td>\n",
              "      <td>0</td>\n",
              "      <td>0</td>\n",
              "      <td>0</td>\n",
              "      <td>0</td>\n",
              "      <td>0</td>\n",
              "      <td>0</td>\n",
              "      <td>0</td>\n",
              "      <td>0</td>\n",
              "      <td>0</td>\n",
              "      <td>0</td>\n",
              "      <td>Have been inspired by your \"owe no man nothing...</td>\n",
              "      <td>have be inspire by your owe no man nothing but...</td>\n",
              "      <td>26</td>\n",
              "      <td>\"\".,..</td>\n",
              "      <td>0.230769</td>\n",
              "      <td>5.230769</td>\n",
              "      <td>0.076923</td>\n",
              "      <td>0.115385</td>\n",
              "      <td>0.0</td>\n",
              "      <td>0.000000</td>\n",
              "    </tr>\n",
              "    <tr>\n",
              "      <th>259</th>\n",
              "      <td>0</td>\n",
              "      <td>0</td>\n",
              "      <td>0</td>\n",
              "      <td>0</td>\n",
              "      <td>0</td>\n",
              "      <td>0</td>\n",
              "      <td>0</td>\n",
              "      <td>0</td>\n",
              "      <td>0</td>\n",
              "      <td>0</td>\n",
              "      <td>0</td>\n",
              "      <td>0</td>\n",
              "      <td>0</td>\n",
              "      <td>0</td>\n",
              "      <td>0</td>\n",
              "      <td>0</td>\n",
              "      <td>0</td>\n",
              "      <td>0</td>\n",
              "      <td>0</td>\n",
              "      <td>0</td>\n",
              "      <td>0</td>\n",
              "      <td>0</td>\n",
              "      <td>0</td>\n",
              "      <td>0</td>\n",
              "      <td>0</td>\n",
              "      <td>0</td>\n",
              "      <td>0</td>\n",
              "      <td>0</td>\n",
              "      <td>0</td>\n",
              "      <td>0</td>\n",
              "      <td>0</td>\n",
              "      <td>0</td>\n",
              "      <td>0</td>\n",
              "      <td>0</td>\n",
              "      <td>0</td>\n",
              "      <td>0</td>\n",
              "      <td>0</td>\n",
              "      <td>0</td>\n",
              "      <td>0</td>\n",
              "      <td>0</td>\n",
              "      <td>...</td>\n",
              "      <td>0</td>\n",
              "      <td>0</td>\n",
              "      <td>0</td>\n",
              "      <td>0</td>\n",
              "      <td>0</td>\n",
              "      <td>0</td>\n",
              "      <td>0</td>\n",
              "      <td>0</td>\n",
              "      <td>0</td>\n",
              "      <td>0</td>\n",
              "      <td>0</td>\n",
              "      <td>1</td>\n",
              "      <td>0</td>\n",
              "      <td>0</td>\n",
              "      <td>0</td>\n",
              "      <td>0</td>\n",
              "      <td>0</td>\n",
              "      <td>0</td>\n",
              "      <td>0</td>\n",
              "      <td>0</td>\n",
              "      <td>0</td>\n",
              "      <td>0</td>\n",
              "      <td>0</td>\n",
              "      <td>0</td>\n",
              "      <td>0</td>\n",
              "      <td>0</td>\n",
              "      <td>0</td>\n",
              "      <td>0</td>\n",
              "      <td>0</td>\n",
              "      <td>0</td>\n",
              "      <td>You can't count on pleasing everyone, so focus...</td>\n",
              "      <td>you can t count on please everyone so focus on...</td>\n",
              "      <td>16</td>\n",
              "      <td>',</td>\n",
              "      <td>0.125000</td>\n",
              "      <td>5.187500</td>\n",
              "      <td>0.000000</td>\n",
              "      <td>0.000000</td>\n",
              "      <td>0.0</td>\n",
              "      <td>0.000000</td>\n",
              "    </tr>\n",
              "    <tr>\n",
              "      <th>6367</th>\n",
              "      <td>0</td>\n",
              "      <td>0</td>\n",
              "      <td>0</td>\n",
              "      <td>0</td>\n",
              "      <td>0</td>\n",
              "      <td>0</td>\n",
              "      <td>0</td>\n",
              "      <td>0</td>\n",
              "      <td>0</td>\n",
              "      <td>0</td>\n",
              "      <td>0</td>\n",
              "      <td>0</td>\n",
              "      <td>0</td>\n",
              "      <td>0</td>\n",
              "      <td>0</td>\n",
              "      <td>0</td>\n",
              "      <td>0</td>\n",
              "      <td>0</td>\n",
              "      <td>0</td>\n",
              "      <td>0</td>\n",
              "      <td>0</td>\n",
              "      <td>0</td>\n",
              "      <td>0</td>\n",
              "      <td>0</td>\n",
              "      <td>0</td>\n",
              "      <td>0</td>\n",
              "      <td>0</td>\n",
              "      <td>0</td>\n",
              "      <td>0</td>\n",
              "      <td>0</td>\n",
              "      <td>0</td>\n",
              "      <td>0</td>\n",
              "      <td>0</td>\n",
              "      <td>0</td>\n",
              "      <td>0</td>\n",
              "      <td>0</td>\n",
              "      <td>0</td>\n",
              "      <td>0</td>\n",
              "      <td>0</td>\n",
              "      <td>0</td>\n",
              "      <td>...</td>\n",
              "      <td>0</td>\n",
              "      <td>0</td>\n",
              "      <td>0</td>\n",
              "      <td>0</td>\n",
              "      <td>0</td>\n",
              "      <td>0</td>\n",
              "      <td>0</td>\n",
              "      <td>0</td>\n",
              "      <td>0</td>\n",
              "      <td>0</td>\n",
              "      <td>0</td>\n",
              "      <td>0</td>\n",
              "      <td>0</td>\n",
              "      <td>0</td>\n",
              "      <td>0</td>\n",
              "      <td>1</td>\n",
              "      <td>0</td>\n",
              "      <td>0</td>\n",
              "      <td>0</td>\n",
              "      <td>0</td>\n",
              "      <td>0</td>\n",
              "      <td>0</td>\n",
              "      <td>0</td>\n",
              "      <td>0</td>\n",
              "      <td>0</td>\n",
              "      <td>0</td>\n",
              "      <td>0</td>\n",
              "      <td>0</td>\n",
              "      <td>0</td>\n",
              "      <td>0</td>\n",
              "      <td>Keep posting videos of your children being bra...</td>\n",
              "      <td>keep post video of your child be brat it s gre...</td>\n",
              "      <td>27</td>\n",
              "      <td>.''.</td>\n",
              "      <td>0.148148</td>\n",
              "      <td>5.481481</td>\n",
              "      <td>0.000000</td>\n",
              "      <td>0.074074</td>\n",
              "      <td>0.0</td>\n",
              "      <td>0.000000</td>\n",
              "    </tr>\n",
              "    <tr>\n",
              "      <th>...</th>\n",
              "      <td>...</td>\n",
              "      <td>...</td>\n",
              "      <td>...</td>\n",
              "      <td>...</td>\n",
              "      <td>...</td>\n",
              "      <td>...</td>\n",
              "      <td>...</td>\n",
              "      <td>...</td>\n",
              "      <td>...</td>\n",
              "      <td>...</td>\n",
              "      <td>...</td>\n",
              "      <td>...</td>\n",
              "      <td>...</td>\n",
              "      <td>...</td>\n",
              "      <td>...</td>\n",
              "      <td>...</td>\n",
              "      <td>...</td>\n",
              "      <td>...</td>\n",
              "      <td>...</td>\n",
              "      <td>...</td>\n",
              "      <td>...</td>\n",
              "      <td>...</td>\n",
              "      <td>...</td>\n",
              "      <td>...</td>\n",
              "      <td>...</td>\n",
              "      <td>...</td>\n",
              "      <td>...</td>\n",
              "      <td>...</td>\n",
              "      <td>...</td>\n",
              "      <td>...</td>\n",
              "      <td>...</td>\n",
              "      <td>...</td>\n",
              "      <td>...</td>\n",
              "      <td>...</td>\n",
              "      <td>...</td>\n",
              "      <td>...</td>\n",
              "      <td>...</td>\n",
              "      <td>...</td>\n",
              "      <td>...</td>\n",
              "      <td>...</td>\n",
              "      <td>...</td>\n",
              "      <td>...</td>\n",
              "      <td>...</td>\n",
              "      <td>...</td>\n",
              "      <td>...</td>\n",
              "      <td>...</td>\n",
              "      <td>...</td>\n",
              "      <td>...</td>\n",
              "      <td>...</td>\n",
              "      <td>...</td>\n",
              "      <td>...</td>\n",
              "      <td>...</td>\n",
              "      <td>...</td>\n",
              "      <td>...</td>\n",
              "      <td>...</td>\n",
              "      <td>...</td>\n",
              "      <td>...</td>\n",
              "      <td>...</td>\n",
              "      <td>...</td>\n",
              "      <td>...</td>\n",
              "      <td>...</td>\n",
              "      <td>...</td>\n",
              "      <td>...</td>\n",
              "      <td>...</td>\n",
              "      <td>...</td>\n",
              "      <td>...</td>\n",
              "      <td>...</td>\n",
              "      <td>...</td>\n",
              "      <td>...</td>\n",
              "      <td>...</td>\n",
              "      <td>...</td>\n",
              "      <td>...</td>\n",
              "      <td>...</td>\n",
              "      <td>...</td>\n",
              "      <td>...</td>\n",
              "      <td>...</td>\n",
              "      <td>...</td>\n",
              "      <td>...</td>\n",
              "      <td>...</td>\n",
              "      <td>...</td>\n",
              "      <td>...</td>\n",
              "    </tr>\n",
              "    <tr>\n",
              "      <th>48</th>\n",
              "      <td>0</td>\n",
              "      <td>0</td>\n",
              "      <td>0</td>\n",
              "      <td>0</td>\n",
              "      <td>0</td>\n",
              "      <td>0</td>\n",
              "      <td>0</td>\n",
              "      <td>0</td>\n",
              "      <td>0</td>\n",
              "      <td>0</td>\n",
              "      <td>0</td>\n",
              "      <td>0</td>\n",
              "      <td>0</td>\n",
              "      <td>0</td>\n",
              "      <td>0</td>\n",
              "      <td>0</td>\n",
              "      <td>0</td>\n",
              "      <td>0</td>\n",
              "      <td>0</td>\n",
              "      <td>0</td>\n",
              "      <td>0</td>\n",
              "      <td>0</td>\n",
              "      <td>0</td>\n",
              "      <td>0</td>\n",
              "      <td>0</td>\n",
              "      <td>0</td>\n",
              "      <td>0</td>\n",
              "      <td>0</td>\n",
              "      <td>0</td>\n",
              "      <td>0</td>\n",
              "      <td>0</td>\n",
              "      <td>0</td>\n",
              "      <td>0</td>\n",
              "      <td>0</td>\n",
              "      <td>0</td>\n",
              "      <td>0</td>\n",
              "      <td>0</td>\n",
              "      <td>0</td>\n",
              "      <td>0</td>\n",
              "      <td>0</td>\n",
              "      <td>...</td>\n",
              "      <td>0</td>\n",
              "      <td>0</td>\n",
              "      <td>0</td>\n",
              "      <td>0</td>\n",
              "      <td>0</td>\n",
              "      <td>0</td>\n",
              "      <td>0</td>\n",
              "      <td>0</td>\n",
              "      <td>0</td>\n",
              "      <td>0</td>\n",
              "      <td>0</td>\n",
              "      <td>0</td>\n",
              "      <td>0</td>\n",
              "      <td>0</td>\n",
              "      <td>0</td>\n",
              "      <td>0</td>\n",
              "      <td>0</td>\n",
              "      <td>0</td>\n",
              "      <td>0</td>\n",
              "      <td>0</td>\n",
              "      <td>0</td>\n",
              "      <td>0</td>\n",
              "      <td>0</td>\n",
              "      <td>0</td>\n",
              "      <td>0</td>\n",
              "      <td>0</td>\n",
              "      <td>0</td>\n",
              "      <td>0</td>\n",
              "      <td>0</td>\n",
              "      <td>0</td>\n",
              "      <td>What helps me with these things is using that ...</td>\n",
              "      <td>what help me with these thing be use that awar...</td>\n",
              "      <td>38</td>\n",
              "      <td>.,,</td>\n",
              "      <td>0.078947</td>\n",
              "      <td>5.184211</td>\n",
              "      <td>0.000000</td>\n",
              "      <td>0.026316</td>\n",
              "      <td>0.0</td>\n",
              "      <td>0.000000</td>\n",
              "    </tr>\n",
              "    <tr>\n",
              "      <th>772</th>\n",
              "      <td>0</td>\n",
              "      <td>0</td>\n",
              "      <td>0</td>\n",
              "      <td>0</td>\n",
              "      <td>0</td>\n",
              "      <td>0</td>\n",
              "      <td>0</td>\n",
              "      <td>0</td>\n",
              "      <td>0</td>\n",
              "      <td>0</td>\n",
              "      <td>0</td>\n",
              "      <td>0</td>\n",
              "      <td>0</td>\n",
              "      <td>0</td>\n",
              "      <td>0</td>\n",
              "      <td>0</td>\n",
              "      <td>0</td>\n",
              "      <td>0</td>\n",
              "      <td>0</td>\n",
              "      <td>0</td>\n",
              "      <td>0</td>\n",
              "      <td>0</td>\n",
              "      <td>0</td>\n",
              "      <td>0</td>\n",
              "      <td>0</td>\n",
              "      <td>0</td>\n",
              "      <td>0</td>\n",
              "      <td>0</td>\n",
              "      <td>0</td>\n",
              "      <td>0</td>\n",
              "      <td>0</td>\n",
              "      <td>0</td>\n",
              "      <td>0</td>\n",
              "      <td>0</td>\n",
              "      <td>0</td>\n",
              "      <td>0</td>\n",
              "      <td>0</td>\n",
              "      <td>0</td>\n",
              "      <td>0</td>\n",
              "      <td>0</td>\n",
              "      <td>...</td>\n",
              "      <td>0</td>\n",
              "      <td>0</td>\n",
              "      <td>0</td>\n",
              "      <td>0</td>\n",
              "      <td>0</td>\n",
              "      <td>0</td>\n",
              "      <td>0</td>\n",
              "      <td>0</td>\n",
              "      <td>0</td>\n",
              "      <td>0</td>\n",
              "      <td>0</td>\n",
              "      <td>0</td>\n",
              "      <td>0</td>\n",
              "      <td>0</td>\n",
              "      <td>0</td>\n",
              "      <td>0</td>\n",
              "      <td>0</td>\n",
              "      <td>0</td>\n",
              "      <td>0</td>\n",
              "      <td>0</td>\n",
              "      <td>0</td>\n",
              "      <td>0</td>\n",
              "      <td>0</td>\n",
              "      <td>0</td>\n",
              "      <td>0</td>\n",
              "      <td>0</td>\n",
              "      <td>0</td>\n",
              "      <td>0</td>\n",
              "      <td>0</td>\n",
              "      <td>0</td>\n",
              "      <td>A few months ago while in Israel, I met a man ...</td>\n",
              "      <td>a few month ago while in israel i meet a man n...</td>\n",
              "      <td>58</td>\n",
              "      <td>,.-@.'\".\".://./</td>\n",
              "      <td>0.258621</td>\n",
              "      <td>4.344828</td>\n",
              "      <td>0.034483</td>\n",
              "      <td>0.086207</td>\n",
              "      <td>0.0</td>\n",
              "      <td>0.000000</td>\n",
              "    </tr>\n",
              "    <tr>\n",
              "      <th>5944</th>\n",
              "      <td>0</td>\n",
              "      <td>0</td>\n",
              "      <td>0</td>\n",
              "      <td>0</td>\n",
              "      <td>0</td>\n",
              "      <td>0</td>\n",
              "      <td>0</td>\n",
              "      <td>0</td>\n",
              "      <td>0</td>\n",
              "      <td>0</td>\n",
              "      <td>0</td>\n",
              "      <td>0</td>\n",
              "      <td>0</td>\n",
              "      <td>0</td>\n",
              "      <td>0</td>\n",
              "      <td>0</td>\n",
              "      <td>0</td>\n",
              "      <td>0</td>\n",
              "      <td>0</td>\n",
              "      <td>0</td>\n",
              "      <td>0</td>\n",
              "      <td>0</td>\n",
              "      <td>0</td>\n",
              "      <td>0</td>\n",
              "      <td>0</td>\n",
              "      <td>0</td>\n",
              "      <td>0</td>\n",
              "      <td>0</td>\n",
              "      <td>0</td>\n",
              "      <td>0</td>\n",
              "      <td>0</td>\n",
              "      <td>0</td>\n",
              "      <td>0</td>\n",
              "      <td>0</td>\n",
              "      <td>0</td>\n",
              "      <td>0</td>\n",
              "      <td>0</td>\n",
              "      <td>0</td>\n",
              "      <td>0</td>\n",
              "      <td>0</td>\n",
              "      <td>...</td>\n",
              "      <td>0</td>\n",
              "      <td>0</td>\n",
              "      <td>0</td>\n",
              "      <td>0</td>\n",
              "      <td>0</td>\n",
              "      <td>0</td>\n",
              "      <td>0</td>\n",
              "      <td>0</td>\n",
              "      <td>0</td>\n",
              "      <td>0</td>\n",
              "      <td>0</td>\n",
              "      <td>0</td>\n",
              "      <td>0</td>\n",
              "      <td>0</td>\n",
              "      <td>0</td>\n",
              "      <td>0</td>\n",
              "      <td>0</td>\n",
              "      <td>0</td>\n",
              "      <td>0</td>\n",
              "      <td>0</td>\n",
              "      <td>0</td>\n",
              "      <td>0</td>\n",
              "      <td>0</td>\n",
              "      <td>0</td>\n",
              "      <td>0</td>\n",
              "      <td>0</td>\n",
              "      <td>0</td>\n",
              "      <td>0</td>\n",
              "      <td>0</td>\n",
              "      <td>0</td>\n",
              "      <td>Since 2007, all of McDonald's delivery trucks ...</td>\n",
              "      <td>since 2007 all of mc donald s delivery truck i...</td>\n",
              "      <td>23</td>\n",
              "      <td>,'.</td>\n",
              "      <td>0.130435</td>\n",
              "      <td>5.043478</td>\n",
              "      <td>0.000000</td>\n",
              "      <td>0.043478</td>\n",
              "      <td>0.0</td>\n",
              "      <td>0.000000</td>\n",
              "    </tr>\n",
              "    <tr>\n",
              "      <th>5327</th>\n",
              "      <td>0</td>\n",
              "      <td>0</td>\n",
              "      <td>0</td>\n",
              "      <td>0</td>\n",
              "      <td>0</td>\n",
              "      <td>0</td>\n",
              "      <td>0</td>\n",
              "      <td>0</td>\n",
              "      <td>0</td>\n",
              "      <td>0</td>\n",
              "      <td>0</td>\n",
              "      <td>0</td>\n",
              "      <td>0</td>\n",
              "      <td>0</td>\n",
              "      <td>0</td>\n",
              "      <td>0</td>\n",
              "      <td>0</td>\n",
              "      <td>0</td>\n",
              "      <td>0</td>\n",
              "      <td>0</td>\n",
              "      <td>0</td>\n",
              "      <td>0</td>\n",
              "      <td>0</td>\n",
              "      <td>0</td>\n",
              "      <td>0</td>\n",
              "      <td>0</td>\n",
              "      <td>0</td>\n",
              "      <td>0</td>\n",
              "      <td>0</td>\n",
              "      <td>0</td>\n",
              "      <td>0</td>\n",
              "      <td>0</td>\n",
              "      <td>0</td>\n",
              "      <td>0</td>\n",
              "      <td>0</td>\n",
              "      <td>0</td>\n",
              "      <td>0</td>\n",
              "      <td>0</td>\n",
              "      <td>0</td>\n",
              "      <td>0</td>\n",
              "      <td>...</td>\n",
              "      <td>0</td>\n",
              "      <td>0</td>\n",
              "      <td>0</td>\n",
              "      <td>0</td>\n",
              "      <td>0</td>\n",
              "      <td>0</td>\n",
              "      <td>0</td>\n",
              "      <td>0</td>\n",
              "      <td>0</td>\n",
              "      <td>0</td>\n",
              "      <td>0</td>\n",
              "      <td>2</td>\n",
              "      <td>0</td>\n",
              "      <td>0</td>\n",
              "      <td>0</td>\n",
              "      <td>0</td>\n",
              "      <td>0</td>\n",
              "      <td>0</td>\n",
              "      <td>0</td>\n",
              "      <td>0</td>\n",
              "      <td>0</td>\n",
              "      <td>0</td>\n",
              "      <td>0</td>\n",
              "      <td>0</td>\n",
              "      <td>0</td>\n",
              "      <td>0</td>\n",
              "      <td>0</td>\n",
              "      <td>0</td>\n",
              "      <td>0</td>\n",
              "      <td>0</td>\n",
              "      <td>What do you get when you play tug of war with ...</td>\n",
              "      <td>what do you get when you play tug of war with ...</td>\n",
              "      <td>15</td>\n",
              "      <td>?.</td>\n",
              "      <td>0.133333</td>\n",
              "      <td>4.333333</td>\n",
              "      <td>0.000000</td>\n",
              "      <td>0.066667</td>\n",
              "      <td>0.0</td>\n",
              "      <td>0.066667</td>\n",
              "    </tr>\n",
              "    <tr>\n",
              "      <th>7113</th>\n",
              "      <td>0</td>\n",
              "      <td>0</td>\n",
              "      <td>0</td>\n",
              "      <td>0</td>\n",
              "      <td>0</td>\n",
              "      <td>0</td>\n",
              "      <td>0</td>\n",
              "      <td>0</td>\n",
              "      <td>0</td>\n",
              "      <td>0</td>\n",
              "      <td>0</td>\n",
              "      <td>0</td>\n",
              "      <td>0</td>\n",
              "      <td>0</td>\n",
              "      <td>0</td>\n",
              "      <td>0</td>\n",
              "      <td>0</td>\n",
              "      <td>0</td>\n",
              "      <td>0</td>\n",
              "      <td>0</td>\n",
              "      <td>0</td>\n",
              "      <td>0</td>\n",
              "      <td>0</td>\n",
              "      <td>0</td>\n",
              "      <td>0</td>\n",
              "      <td>0</td>\n",
              "      <td>0</td>\n",
              "      <td>0</td>\n",
              "      <td>0</td>\n",
              "      <td>0</td>\n",
              "      <td>0</td>\n",
              "      <td>0</td>\n",
              "      <td>0</td>\n",
              "      <td>0</td>\n",
              "      <td>0</td>\n",
              "      <td>0</td>\n",
              "      <td>0</td>\n",
              "      <td>0</td>\n",
              "      <td>0</td>\n",
              "      <td>0</td>\n",
              "      <td>...</td>\n",
              "      <td>0</td>\n",
              "      <td>0</td>\n",
              "      <td>0</td>\n",
              "      <td>0</td>\n",
              "      <td>0</td>\n",
              "      <td>0</td>\n",
              "      <td>0</td>\n",
              "      <td>0</td>\n",
              "      <td>0</td>\n",
              "      <td>0</td>\n",
              "      <td>0</td>\n",
              "      <td>1</td>\n",
              "      <td>0</td>\n",
              "      <td>0</td>\n",
              "      <td>0</td>\n",
              "      <td>0</td>\n",
              "      <td>0</td>\n",
              "      <td>0</td>\n",
              "      <td>0</td>\n",
              "      <td>0</td>\n",
              "      <td>0</td>\n",
              "      <td>0</td>\n",
              "      <td>0</td>\n",
              "      <td>0</td>\n",
              "      <td>0</td>\n",
              "      <td>0</td>\n",
              "      <td>0</td>\n",
              "      <td>0</td>\n",
              "      <td>0</td>\n",
              "      <td>0</td>\n",
              "      <td>You can put many older CD-based video games in...</td>\n",
              "      <td>you can put many older c d base video game int...</td>\n",
              "      <td>23</td>\n",
              "      <td>-'.</td>\n",
              "      <td>0.130435</td>\n",
              "      <td>4.565217</td>\n",
              "      <td>0.000000</td>\n",
              "      <td>0.043478</td>\n",
              "      <td>0.0</td>\n",
              "      <td>0.000000</td>\n",
              "    </tr>\n",
              "  </tbody>\n",
              "</table>\n",
              "<p>6400 rows × 4010 columns</p>\n",
              "</div>"
            ],
            "text/plain": [
              "      00  000  03  10  100  ...  word_len   quotes_     dots_  exclMk_  questMk_\n",
              "2283   0    0   0   0    0  ...  5.282051  0.000000  0.051282      0.0  0.000000\n",
              "2650   0    0   0   0    0  ...  4.904762  0.000000  0.047619      0.0  0.047619\n",
              "1871   0    0   0   0    0  ...  5.230769  0.076923  0.115385      0.0  0.000000\n",
              "259    0    0   0   0    0  ...  5.187500  0.000000  0.000000      0.0  0.000000\n",
              "6367   0    0   0   0    0  ...  5.481481  0.000000  0.074074      0.0  0.000000\n",
              "...   ..  ...  ..  ..  ...  ...       ...       ...       ...      ...       ...\n",
              "48     0    0   0   0    0  ...  5.184211  0.000000  0.026316      0.0  0.000000\n",
              "772    0    0   0   0    0  ...  4.344828  0.034483  0.086207      0.0  0.000000\n",
              "5944   0    0   0   0    0  ...  5.043478  0.000000  0.043478      0.0  0.000000\n",
              "5327   0    0   0   0    0  ...  4.333333  0.000000  0.066667      0.0  0.066667\n",
              "7113   0    0   0   0    0  ...  4.565217  0.000000  0.043478      0.0  0.000000\n",
              "\n",
              "[6400 rows x 4010 columns]"
            ]
          },
          "metadata": {
            "tags": []
          },
          "execution_count": 227
        }
      ]
    },
    {
      "cell_type": "code",
      "metadata": {
        "colab": {
          "base_uri": "https://localhost:8080/",
          "height": 1000
        },
        "id": "0MlhiGK91EDk",
        "outputId": "3ab1bad8-4879-4c29-f105-0d429c5c09ff"
      },
      "source": [
        "X_train_trans_num = X_train_trans[X_train_trans.columns.difference(['text_','processed_text','punct_'],sort=False)]\r\n",
        "X_test_trans_num = X_test_trans[X_test_trans.columns.difference(['text_','processed_text','punct_'],sort=False)]\r\n",
        "\r\n",
        "## not working!\r\n",
        "explainer = shap.KernelExplainer(stackClassif.predict_proba, X_train_trans)\r\n",
        "#shap_values = explainer.shap_values(X_test.iloc[0,:])\r\n",
        "#shap.force_plot(explainer.expected_value[0], shap_values[0], X_test.iloc[0,:])"
      ],
      "execution_count": null,
      "outputs": [
        {
          "output_type": "stream",
          "text": [
            "Provided model function fails when applied to the provided data set.\n"
          ],
          "name": "stdout"
        },
        {
          "output_type": "error",
          "ename": "AttributeError",
          "evalue": "ignored",
          "traceback": [
            "\u001b[0;31m---------------------------------------------------------------------------\u001b[0m",
            "\u001b[0;31mAttributeError\u001b[0m                            Traceback (most recent call last)",
            "\u001b[0;32m<ipython-input-231-a3d1b33acf7f>\u001b[0m in \u001b[0;36m<module>\u001b[0;34m()\u001b[0m\n\u001b[1;32m      2\u001b[0m \u001b[0mX_test_trans_num\u001b[0m \u001b[0;34m=\u001b[0m \u001b[0mX_test_trans\u001b[0m\u001b[0;34m[\u001b[0m\u001b[0mX_test_trans\u001b[0m\u001b[0;34m.\u001b[0m\u001b[0mcolumns\u001b[0m\u001b[0;34m.\u001b[0m\u001b[0mdifference\u001b[0m\u001b[0;34m(\u001b[0m\u001b[0;34m[\u001b[0m\u001b[0;34m'text_'\u001b[0m\u001b[0;34m,\u001b[0m\u001b[0;34m'processed_text'\u001b[0m\u001b[0;34m,\u001b[0m\u001b[0;34m'punct_'\u001b[0m\u001b[0;34m]\u001b[0m\u001b[0;34m,\u001b[0m\u001b[0msort\u001b[0m\u001b[0;34m=\u001b[0m\u001b[0;32mFalse\u001b[0m\u001b[0;34m)\u001b[0m\u001b[0;34m]\u001b[0m\u001b[0;34m\u001b[0m\u001b[0;34m\u001b[0m\u001b[0m\n\u001b[1;32m      3\u001b[0m \u001b[0;34m\u001b[0m\u001b[0m\n\u001b[0;32m----> 4\u001b[0;31m \u001b[0mexplainer\u001b[0m \u001b[0;34m=\u001b[0m \u001b[0mshap\u001b[0m\u001b[0;34m.\u001b[0m\u001b[0mKernelExplainer\u001b[0m\u001b[0;34m(\u001b[0m\u001b[0mstackClassif\u001b[0m\u001b[0;34m.\u001b[0m\u001b[0mpredict_proba\u001b[0m\u001b[0;34m,\u001b[0m \u001b[0mX_train_trans\u001b[0m\u001b[0;34m)\u001b[0m\u001b[0;34m\u001b[0m\u001b[0;34m\u001b[0m\u001b[0m\n\u001b[0m\u001b[1;32m      5\u001b[0m \u001b[0;31m#shap_values = explainer.shap_values(X_test.iloc[0,:])\u001b[0m\u001b[0;34m\u001b[0m\u001b[0;34m\u001b[0m\u001b[0;34m\u001b[0m\u001b[0m\n\u001b[1;32m      6\u001b[0m \u001b[0;31m#shap.force_plot(explainer.expected_value[0], shap_values[0], X_test.iloc[0,:])\u001b[0m\u001b[0;34m\u001b[0m\u001b[0;34m\u001b[0m\u001b[0;34m\u001b[0m\u001b[0m\n",
            "\u001b[0;32m/usr/local/lib/python3.6/dist-packages/shap/explainers/_kernel.py\u001b[0m in \u001b[0;36m__init__\u001b[0;34m(self, model, data, link, **kwargs)\u001b[0m\n\u001b[1;32m     66\u001b[0m         \u001b[0mself\u001b[0m\u001b[0;34m.\u001b[0m\u001b[0mkeep_index_ordered\u001b[0m \u001b[0;34m=\u001b[0m \u001b[0mkwargs\u001b[0m\u001b[0;34m.\u001b[0m\u001b[0mget\u001b[0m\u001b[0;34m(\u001b[0m\u001b[0;34m\"keep_index_ordered\"\u001b[0m\u001b[0;34m,\u001b[0m \u001b[0;32mFalse\u001b[0m\u001b[0;34m)\u001b[0m\u001b[0;34m\u001b[0m\u001b[0;34m\u001b[0m\u001b[0m\n\u001b[1;32m     67\u001b[0m         \u001b[0mself\u001b[0m\u001b[0;34m.\u001b[0m\u001b[0mdata\u001b[0m \u001b[0;34m=\u001b[0m \u001b[0mconvert_to_data\u001b[0m\u001b[0;34m(\u001b[0m\u001b[0mdata\u001b[0m\u001b[0;34m,\u001b[0m \u001b[0mkeep_index\u001b[0m\u001b[0;34m=\u001b[0m\u001b[0mself\u001b[0m\u001b[0;34m.\u001b[0m\u001b[0mkeep_index\u001b[0m\u001b[0;34m)\u001b[0m\u001b[0;34m\u001b[0m\u001b[0;34m\u001b[0m\u001b[0m\n\u001b[0;32m---> 68\u001b[0;31m         \u001b[0mmodel_null\u001b[0m \u001b[0;34m=\u001b[0m \u001b[0mmatch_model_to_data\u001b[0m\u001b[0;34m(\u001b[0m\u001b[0mself\u001b[0m\u001b[0;34m.\u001b[0m\u001b[0mmodel\u001b[0m\u001b[0;34m,\u001b[0m \u001b[0mself\u001b[0m\u001b[0;34m.\u001b[0m\u001b[0mdata\u001b[0m\u001b[0;34m)\u001b[0m\u001b[0;34m\u001b[0m\u001b[0;34m\u001b[0m\u001b[0m\n\u001b[0m\u001b[1;32m     69\u001b[0m \u001b[0;34m\u001b[0m\u001b[0m\n\u001b[1;32m     70\u001b[0m         \u001b[0;31m# enforce our current input type limitations\u001b[0m\u001b[0;34m\u001b[0m\u001b[0;34m\u001b[0m\u001b[0;34m\u001b[0m\u001b[0m\n",
            "\u001b[0;32m/usr/local/lib/python3.6/dist-packages/shap/utils/_legacy.py\u001b[0m in \u001b[0;36mmatch_model_to_data\u001b[0;34m(model, data)\u001b[0m\n\u001b[1;32m    110\u001b[0m             \u001b[0mout_val\u001b[0m \u001b[0;34m=\u001b[0m \u001b[0mmodel\u001b[0m\u001b[0;34m.\u001b[0m\u001b[0mf\u001b[0m\u001b[0;34m(\u001b[0m\u001b[0mdata\u001b[0m\u001b[0;34m.\u001b[0m\u001b[0mconvert_to_df\u001b[0m\u001b[0;34m(\u001b[0m\u001b[0;34m)\u001b[0m\u001b[0;34m)\u001b[0m\u001b[0;34m\u001b[0m\u001b[0;34m\u001b[0m\u001b[0m\n\u001b[1;32m    111\u001b[0m         \u001b[0;32melse\u001b[0m\u001b[0;34m:\u001b[0m\u001b[0;34m\u001b[0m\u001b[0;34m\u001b[0m\u001b[0m\n\u001b[0;32m--> 112\u001b[0;31m             \u001b[0mout_val\u001b[0m \u001b[0;34m=\u001b[0m \u001b[0mmodel\u001b[0m\u001b[0;34m.\u001b[0m\u001b[0mf\u001b[0m\u001b[0;34m(\u001b[0m\u001b[0mdata\u001b[0m\u001b[0;34m.\u001b[0m\u001b[0mdata\u001b[0m\u001b[0;34m)\u001b[0m\u001b[0;34m\u001b[0m\u001b[0;34m\u001b[0m\u001b[0m\n\u001b[0m\u001b[1;32m    113\u001b[0m     \u001b[0;32mexcept\u001b[0m\u001b[0;34m:\u001b[0m\u001b[0;34m\u001b[0m\u001b[0;34m\u001b[0m\u001b[0m\n\u001b[1;32m    114\u001b[0m         \u001b[0mprint\u001b[0m\u001b[0;34m(\u001b[0m\u001b[0;34m\"Provided model function fails when applied to the provided data set.\"\u001b[0m\u001b[0;34m)\u001b[0m\u001b[0;34m\u001b[0m\u001b[0;34m\u001b[0m\u001b[0m\n",
            "\u001b[0;32m/usr/local/lib/python3.6/dist-packages/sklearn/utils/metaestimators.py\u001b[0m in \u001b[0;36m<lambda>\u001b[0;34m(*args, **kwargs)\u001b[0m\n\u001b[1;32m    114\u001b[0m \u001b[0;34m\u001b[0m\u001b[0m\n\u001b[1;32m    115\u001b[0m         \u001b[0;31m# lambda, but not partial, allows help() to work with update_wrapper\u001b[0m\u001b[0;34m\u001b[0m\u001b[0;34m\u001b[0m\u001b[0;34m\u001b[0m\u001b[0m\n\u001b[0;32m--> 116\u001b[0;31m         \u001b[0mout\u001b[0m \u001b[0;34m=\u001b[0m \u001b[0;32mlambda\u001b[0m \u001b[0;34m*\u001b[0m\u001b[0margs\u001b[0m\u001b[0;34m,\u001b[0m \u001b[0;34m**\u001b[0m\u001b[0mkwargs\u001b[0m\u001b[0;34m:\u001b[0m \u001b[0mself\u001b[0m\u001b[0;34m.\u001b[0m\u001b[0mfn\u001b[0m\u001b[0;34m(\u001b[0m\u001b[0mobj\u001b[0m\u001b[0;34m,\u001b[0m \u001b[0;34m*\u001b[0m\u001b[0margs\u001b[0m\u001b[0;34m,\u001b[0m \u001b[0;34m**\u001b[0m\u001b[0mkwargs\u001b[0m\u001b[0;34m)\u001b[0m\u001b[0;34m\u001b[0m\u001b[0;34m\u001b[0m\u001b[0m\n\u001b[0m\u001b[1;32m    117\u001b[0m         \u001b[0;31m# update the docstring of the returned function\u001b[0m\u001b[0;34m\u001b[0m\u001b[0;34m\u001b[0m\u001b[0;34m\u001b[0m\u001b[0m\n\u001b[1;32m    118\u001b[0m         \u001b[0mupdate_wrapper\u001b[0m\u001b[0;34m(\u001b[0m\u001b[0mout\u001b[0m\u001b[0;34m,\u001b[0m \u001b[0mself\u001b[0m\u001b[0;34m.\u001b[0m\u001b[0mfn\u001b[0m\u001b[0;34m)\u001b[0m\u001b[0;34m\u001b[0m\u001b[0;34m\u001b[0m\u001b[0m\n",
            "\u001b[0;32m/usr/local/lib/python3.6/dist-packages/sklearn/ensemble/_stacking.py\u001b[0m in \u001b[0;36mpredict_proba\u001b[0;34m(self, X)\u001b[0m\n\u001b[1;32m    455\u001b[0m         \"\"\"\n\u001b[1;32m    456\u001b[0m         \u001b[0mcheck_is_fitted\u001b[0m\u001b[0;34m(\u001b[0m\u001b[0mself\u001b[0m\u001b[0;34m)\u001b[0m\u001b[0;34m\u001b[0m\u001b[0;34m\u001b[0m\u001b[0m\n\u001b[0;32m--> 457\u001b[0;31m         \u001b[0;32mreturn\u001b[0m \u001b[0mself\u001b[0m\u001b[0;34m.\u001b[0m\u001b[0mfinal_estimator_\u001b[0m\u001b[0;34m.\u001b[0m\u001b[0mpredict_proba\u001b[0m\u001b[0;34m(\u001b[0m\u001b[0mself\u001b[0m\u001b[0;34m.\u001b[0m\u001b[0mtransform\u001b[0m\u001b[0;34m(\u001b[0m\u001b[0mX\u001b[0m\u001b[0;34m)\u001b[0m\u001b[0;34m)\u001b[0m\u001b[0;34m\u001b[0m\u001b[0;34m\u001b[0m\u001b[0m\n\u001b[0m\u001b[1;32m    458\u001b[0m \u001b[0;34m\u001b[0m\u001b[0m\n\u001b[1;32m    459\u001b[0m     \u001b[0;34m@\u001b[0m\u001b[0mif_delegate_has_method\u001b[0m\u001b[0;34m(\u001b[0m\u001b[0mdelegate\u001b[0m\u001b[0;34m=\u001b[0m\u001b[0;34m'final_estimator_'\u001b[0m\u001b[0;34m)\u001b[0m\u001b[0;34m\u001b[0m\u001b[0;34m\u001b[0m\u001b[0m\n",
            "\u001b[0;32m/usr/local/lib/python3.6/dist-packages/sklearn/ensemble/_stacking.py\u001b[0m in \u001b[0;36mtransform\u001b[0;34m(self, X)\u001b[0m\n\u001b[1;32m    492\u001b[0m             \u001b[0mPrediction\u001b[0m \u001b[0moutputs\u001b[0m \u001b[0;32mfor\u001b[0m \u001b[0meach\u001b[0m \u001b[0mestimator\u001b[0m\u001b[0;34m.\u001b[0m\u001b[0;34m\u001b[0m\u001b[0;34m\u001b[0m\u001b[0m\n\u001b[1;32m    493\u001b[0m         \"\"\"\n\u001b[0;32m--> 494\u001b[0;31m         \u001b[0;32mreturn\u001b[0m \u001b[0mself\u001b[0m\u001b[0;34m.\u001b[0m\u001b[0m_transform\u001b[0m\u001b[0;34m(\u001b[0m\u001b[0mX\u001b[0m\u001b[0;34m)\u001b[0m\u001b[0;34m\u001b[0m\u001b[0;34m\u001b[0m\u001b[0m\n\u001b[0m\u001b[1;32m    495\u001b[0m \u001b[0;34m\u001b[0m\u001b[0m\n\u001b[1;32m    496\u001b[0m \u001b[0;34m\u001b[0m\u001b[0m\n",
            "\u001b[0;32m/usr/local/lib/python3.6/dist-packages/sklearn/ensemble/_stacking.py\u001b[0m in \u001b[0;36m_transform\u001b[0;34m(self, X)\u001b[0m\n\u001b[1;32m    206\u001b[0m         predictions = [\n\u001b[1;32m    207\u001b[0m             \u001b[0mgetattr\u001b[0m\u001b[0;34m(\u001b[0m\u001b[0mest\u001b[0m\u001b[0;34m,\u001b[0m \u001b[0mmeth\u001b[0m\u001b[0;34m)\u001b[0m\u001b[0;34m(\u001b[0m\u001b[0mX\u001b[0m\u001b[0;34m)\u001b[0m\u001b[0;34m\u001b[0m\u001b[0;34m\u001b[0m\u001b[0m\n\u001b[0;32m--> 208\u001b[0;31m             \u001b[0;32mfor\u001b[0m \u001b[0mest\u001b[0m\u001b[0;34m,\u001b[0m \u001b[0mmeth\u001b[0m \u001b[0;32min\u001b[0m \u001b[0mzip\u001b[0m\u001b[0;34m(\u001b[0m\u001b[0mself\u001b[0m\u001b[0;34m.\u001b[0m\u001b[0mestimators_\u001b[0m\u001b[0;34m,\u001b[0m \u001b[0mself\u001b[0m\u001b[0;34m.\u001b[0m\u001b[0mstack_method_\u001b[0m\u001b[0;34m)\u001b[0m\u001b[0;34m\u001b[0m\u001b[0;34m\u001b[0m\u001b[0m\n\u001b[0m\u001b[1;32m    209\u001b[0m             \u001b[0;32mif\u001b[0m \u001b[0mest\u001b[0m \u001b[0;34m!=\u001b[0m \u001b[0;34m'drop'\u001b[0m\u001b[0;34m\u001b[0m\u001b[0;34m\u001b[0m\u001b[0m\n\u001b[1;32m    210\u001b[0m         ]\n",
            "\u001b[0;32m/usr/local/lib/python3.6/dist-packages/sklearn/ensemble/_stacking.py\u001b[0m in \u001b[0;36m<listcomp>\u001b[0;34m(.0)\u001b[0m\n\u001b[1;32m    207\u001b[0m             \u001b[0mgetattr\u001b[0m\u001b[0;34m(\u001b[0m\u001b[0mest\u001b[0m\u001b[0;34m,\u001b[0m \u001b[0mmeth\u001b[0m\u001b[0;34m)\u001b[0m\u001b[0;34m(\u001b[0m\u001b[0mX\u001b[0m\u001b[0;34m)\u001b[0m\u001b[0;34m\u001b[0m\u001b[0;34m\u001b[0m\u001b[0m\n\u001b[1;32m    208\u001b[0m             \u001b[0;32mfor\u001b[0m \u001b[0mest\u001b[0m\u001b[0;34m,\u001b[0m \u001b[0mmeth\u001b[0m \u001b[0;32min\u001b[0m \u001b[0mzip\u001b[0m\u001b[0;34m(\u001b[0m\u001b[0mself\u001b[0m\u001b[0;34m.\u001b[0m\u001b[0mestimators_\u001b[0m\u001b[0;34m,\u001b[0m \u001b[0mself\u001b[0m\u001b[0;34m.\u001b[0m\u001b[0mstack_method_\u001b[0m\u001b[0;34m)\u001b[0m\u001b[0;34m\u001b[0m\u001b[0;34m\u001b[0m\u001b[0m\n\u001b[0;32m--> 209\u001b[0;31m             \u001b[0;32mif\u001b[0m \u001b[0mest\u001b[0m \u001b[0;34m!=\u001b[0m \u001b[0;34m'drop'\u001b[0m\u001b[0;34m\u001b[0m\u001b[0;34m\u001b[0m\u001b[0m\n\u001b[0m\u001b[1;32m    210\u001b[0m         ]\n\u001b[1;32m    211\u001b[0m         \u001b[0;32mreturn\u001b[0m \u001b[0mself\u001b[0m\u001b[0;34m.\u001b[0m\u001b[0m_concatenate_predictions\u001b[0m\u001b[0;34m(\u001b[0m\u001b[0mX\u001b[0m\u001b[0;34m,\u001b[0m \u001b[0mpredictions\u001b[0m\u001b[0;34m)\u001b[0m\u001b[0;34m\u001b[0m\u001b[0;34m\u001b[0m\u001b[0m\n",
            "\u001b[0;32m/usr/local/lib/python3.6/dist-packages/sklearn/utils/metaestimators.py\u001b[0m in \u001b[0;36m<lambda>\u001b[0;34m(*args, **kwargs)\u001b[0m\n\u001b[1;32m    114\u001b[0m \u001b[0;34m\u001b[0m\u001b[0m\n\u001b[1;32m    115\u001b[0m         \u001b[0;31m# lambda, but not partial, allows help() to work with update_wrapper\u001b[0m\u001b[0;34m\u001b[0m\u001b[0;34m\u001b[0m\u001b[0;34m\u001b[0m\u001b[0m\n\u001b[0;32m--> 116\u001b[0;31m         \u001b[0mout\u001b[0m \u001b[0;34m=\u001b[0m \u001b[0;32mlambda\u001b[0m \u001b[0;34m*\u001b[0m\u001b[0margs\u001b[0m\u001b[0;34m,\u001b[0m \u001b[0;34m**\u001b[0m\u001b[0mkwargs\u001b[0m\u001b[0;34m:\u001b[0m \u001b[0mself\u001b[0m\u001b[0;34m.\u001b[0m\u001b[0mfn\u001b[0m\u001b[0;34m(\u001b[0m\u001b[0mobj\u001b[0m\u001b[0;34m,\u001b[0m \u001b[0;34m*\u001b[0m\u001b[0margs\u001b[0m\u001b[0;34m,\u001b[0m \u001b[0;34m**\u001b[0m\u001b[0mkwargs\u001b[0m\u001b[0;34m)\u001b[0m\u001b[0;34m\u001b[0m\u001b[0;34m\u001b[0m\u001b[0m\n\u001b[0m\u001b[1;32m    117\u001b[0m         \u001b[0;31m# update the docstring of the returned function\u001b[0m\u001b[0;34m\u001b[0m\u001b[0;34m\u001b[0m\u001b[0;34m\u001b[0m\u001b[0m\n\u001b[1;32m    118\u001b[0m         \u001b[0mupdate_wrapper\u001b[0m\u001b[0;34m(\u001b[0m\u001b[0mout\u001b[0m\u001b[0;34m,\u001b[0m \u001b[0mself\u001b[0m\u001b[0;34m.\u001b[0m\u001b[0mfn\u001b[0m\u001b[0;34m)\u001b[0m\u001b[0;34m\u001b[0m\u001b[0;34m\u001b[0m\u001b[0m\n",
            "\u001b[0;32m/usr/local/lib/python3.6/dist-packages/sklearn/pipeline.py\u001b[0m in \u001b[0;36mpredict_proba\u001b[0;34m(self, X)\u001b[0m\n\u001b[1;32m    469\u001b[0m         \u001b[0mXt\u001b[0m \u001b[0;34m=\u001b[0m \u001b[0mX\u001b[0m\u001b[0;34m\u001b[0m\u001b[0;34m\u001b[0m\u001b[0m\n\u001b[1;32m    470\u001b[0m         \u001b[0;32mfor\u001b[0m \u001b[0m_\u001b[0m\u001b[0;34m,\u001b[0m \u001b[0mname\u001b[0m\u001b[0;34m,\u001b[0m \u001b[0mtransform\u001b[0m \u001b[0;32min\u001b[0m \u001b[0mself\u001b[0m\u001b[0;34m.\u001b[0m\u001b[0m_iter\u001b[0m\u001b[0;34m(\u001b[0m\u001b[0mwith_final\u001b[0m\u001b[0;34m=\u001b[0m\u001b[0;32mFalse\u001b[0m\u001b[0;34m)\u001b[0m\u001b[0;34m:\u001b[0m\u001b[0;34m\u001b[0m\u001b[0;34m\u001b[0m\u001b[0m\n\u001b[0;32m--> 471\u001b[0;31m             \u001b[0mXt\u001b[0m \u001b[0;34m=\u001b[0m \u001b[0mtransform\u001b[0m\u001b[0;34m.\u001b[0m\u001b[0mtransform\u001b[0m\u001b[0;34m(\u001b[0m\u001b[0mXt\u001b[0m\u001b[0;34m)\u001b[0m\u001b[0;34m\u001b[0m\u001b[0;34m\u001b[0m\u001b[0m\n\u001b[0m\u001b[1;32m    472\u001b[0m         \u001b[0;32mreturn\u001b[0m \u001b[0mself\u001b[0m\u001b[0;34m.\u001b[0m\u001b[0msteps\u001b[0m\u001b[0;34m[\u001b[0m\u001b[0;34m-\u001b[0m\u001b[0;36m1\u001b[0m\u001b[0;34m]\u001b[0m\u001b[0;34m[\u001b[0m\u001b[0;34m-\u001b[0m\u001b[0;36m1\u001b[0m\u001b[0;34m]\u001b[0m\u001b[0;34m.\u001b[0m\u001b[0mpredict_proba\u001b[0m\u001b[0;34m(\u001b[0m\u001b[0mXt\u001b[0m\u001b[0;34m)\u001b[0m\u001b[0;34m\u001b[0m\u001b[0;34m\u001b[0m\u001b[0m\n\u001b[1;32m    473\u001b[0m \u001b[0;34m\u001b[0m\u001b[0m\n",
            "\u001b[0;32m/usr/local/lib/python3.6/dist-packages/sklearn/preprocessing/_function_transformer.py\u001b[0m in \u001b[0;36mtransform\u001b[0;34m(self, X)\u001b[0m\n\u001b[1;32m    139\u001b[0m             \u001b[0mTransformed\u001b[0m \u001b[0minput\u001b[0m\u001b[0;34m.\u001b[0m\u001b[0;34m\u001b[0m\u001b[0;34m\u001b[0m\u001b[0m\n\u001b[1;32m    140\u001b[0m         \"\"\"\n\u001b[0;32m--> 141\u001b[0;31m         \u001b[0;32mreturn\u001b[0m \u001b[0mself\u001b[0m\u001b[0;34m.\u001b[0m\u001b[0m_transform\u001b[0m\u001b[0;34m(\u001b[0m\u001b[0mX\u001b[0m\u001b[0;34m,\u001b[0m \u001b[0mfunc\u001b[0m\u001b[0;34m=\u001b[0m\u001b[0mself\u001b[0m\u001b[0;34m.\u001b[0m\u001b[0mfunc\u001b[0m\u001b[0;34m,\u001b[0m \u001b[0mkw_args\u001b[0m\u001b[0;34m=\u001b[0m\u001b[0mself\u001b[0m\u001b[0;34m.\u001b[0m\u001b[0mkw_args\u001b[0m\u001b[0;34m)\u001b[0m\u001b[0;34m\u001b[0m\u001b[0;34m\u001b[0m\u001b[0m\n\u001b[0m\u001b[1;32m    142\u001b[0m \u001b[0;34m\u001b[0m\u001b[0m\n\u001b[1;32m    143\u001b[0m     \u001b[0;32mdef\u001b[0m \u001b[0minverse_transform\u001b[0m\u001b[0;34m(\u001b[0m\u001b[0mself\u001b[0m\u001b[0;34m,\u001b[0m \u001b[0mX\u001b[0m\u001b[0;34m)\u001b[0m\u001b[0;34m:\u001b[0m\u001b[0;34m\u001b[0m\u001b[0;34m\u001b[0m\u001b[0m\n",
            "\u001b[0;32m/usr/local/lib/python3.6/dist-packages/sklearn/preprocessing/_function_transformer.py\u001b[0m in \u001b[0;36m_transform\u001b[0;34m(self, X, func, kw_args)\u001b[0m\n\u001b[1;32m    163\u001b[0m             \u001b[0mfunc\u001b[0m \u001b[0;34m=\u001b[0m \u001b[0m_identity\u001b[0m\u001b[0;34m\u001b[0m\u001b[0;34m\u001b[0m\u001b[0m\n\u001b[1;32m    164\u001b[0m \u001b[0;34m\u001b[0m\u001b[0m\n\u001b[0;32m--> 165\u001b[0;31m         \u001b[0;32mreturn\u001b[0m \u001b[0mfunc\u001b[0m\u001b[0;34m(\u001b[0m\u001b[0mX\u001b[0m\u001b[0;34m,\u001b[0m \u001b[0;34m**\u001b[0m\u001b[0;34m(\u001b[0m\u001b[0mkw_args\u001b[0m \u001b[0;32mif\u001b[0m \u001b[0mkw_args\u001b[0m \u001b[0;32melse\u001b[0m \u001b[0;34m{\u001b[0m\u001b[0;34m}\u001b[0m\u001b[0;34m)\u001b[0m\u001b[0;34m)\u001b[0m\u001b[0;34m\u001b[0m\u001b[0;34m\u001b[0m\u001b[0m\n\u001b[0m\u001b[1;32m    166\u001b[0m \u001b[0;34m\u001b[0m\u001b[0m\n\u001b[1;32m    167\u001b[0m     \u001b[0;32mdef\u001b[0m \u001b[0m_more_tags\u001b[0m\u001b[0;34m(\u001b[0m\u001b[0mself\u001b[0m\u001b[0;34m)\u001b[0m\u001b[0;34m:\u001b[0m\u001b[0;34m\u001b[0m\u001b[0;34m\u001b[0m\u001b[0m\n",
            "\u001b[0;32m<ipython-input-218-aa7784b91194>\u001b[0m in \u001b[0;36m<lambda>\u001b[0;34m(x)\u001b[0m\n\u001b[0;32m----> 1\u001b[0;31m \u001b[0mget_numerical_data\u001b[0m \u001b[0;34m=\u001b[0m \u001b[0mFunctionTransformer\u001b[0m\u001b[0;34m(\u001b[0m\u001b[0;32mlambda\u001b[0m \u001b[0mx\u001b[0m\u001b[0;34m:\u001b[0m \u001b[0mx\u001b[0m\u001b[0;34m[\u001b[0m\u001b[0mx\u001b[0m\u001b[0;34m.\u001b[0m\u001b[0mcolumns\u001b[0m\u001b[0;34m.\u001b[0m\u001b[0mdifference\u001b[0m\u001b[0;34m(\u001b[0m\u001b[0;34m[\u001b[0m\u001b[0;34m'text_'\u001b[0m\u001b[0;34m,\u001b[0m\u001b[0;34m'processed_text'\u001b[0m\u001b[0;34m,\u001b[0m\u001b[0;34m'punct_'\u001b[0m\u001b[0;34m]\u001b[0m\u001b[0;34m,\u001b[0m\u001b[0msort\u001b[0m\u001b[0;34m=\u001b[0m\u001b[0;32mFalse\u001b[0m\u001b[0;34m)\u001b[0m\u001b[0;34m]\u001b[0m\u001b[0;34m,\u001b[0m \u001b[0mvalidate\u001b[0m\u001b[0;34m=\u001b[0m\u001b[0;32mFalse\u001b[0m\u001b[0;34m)\u001b[0m\u001b[0;34m\u001b[0m\u001b[0;34m\u001b[0m\u001b[0m\n\u001b[0m",
            "\u001b[0;31mAttributeError\u001b[0m: 'numpy.ndarray' object has no attribute 'columns'"
          ]
        }
      ]
    },
    {
      "cell_type": "markdown",
      "metadata": {
        "id": "oNzpbZr_kYqy"
      },
      "source": [
        "## saving the model"
      ]
    },
    {
      "cell_type": "code",
      "metadata": {
        "id": "006CLzaT9mOf"
      },
      "source": [
        "with open('1a_vectorizer.pkl', 'wb') as file: \r\n",
        "    pickle.dump(vectorizer.vocabulary_, file) # countvectorizer\r\n",
        "#with open('1a_mnb.pkl', 'wb') as file: \r\n",
        "#    pickle.dump(trans_mnb, file) # multinomialNB\r\n",
        "#with open('1a_stackClassif.pkl', 'wb') as file: \r\n",
        "#    pickle.dump(stackClassif, file) # stackingClassifier\r\n",
        "#with open('1a_fastTextModel.pkl', 'wb') as file:\r\n",
        "#    pickle.dump(ft, file)\r\n"
      ],
      "execution_count": null,
      "outputs": []
    },
    {
      "cell_type": "code",
      "metadata": {
        "id": "hgoWkRDS9o1_"
      },
      "source": [
        "del X, y, X_train, X_test, y_train, y_test, vectorizer, X_train_trans, X_test_trans"
      ],
      "execution_count": null,
      "outputs": []
    },
    {
      "cell_type": "markdown",
      "metadata": {
        "id": "TYh4ybIGjnh3"
      },
      "source": [
        "#1b => humor_rating"
      ]
    },
    {
      "cell_type": "markdown",
      "metadata": {
        "id": "b5nuWMKIk9S-"
      },
      "source": [
        "## data preparation"
      ]
    },
    {
      "cell_type": "code",
      "metadata": {
        "id": "r6iBMKPljmiP"
      },
      "source": [
        "X = df[df['is_humor']==1][['text']] # Do not reset the index!\r\n",
        "y = df[df['is_humor']==1][['humor_rating']] #"
      ],
      "execution_count": null,
      "outputs": []
    },
    {
      "cell_type": "code",
      "metadata": {
        "colab": {
          "base_uri": "https://localhost:8080/",
          "height": 36
        },
        "id": "r7jd67XpkhtT",
        "outputId": "deff5385-7f02-42f2-bd9f-95d08c861e3c"
      },
      "source": [
        "X_train, X_test, y_train, y_test = train_test_split(X, y, test_size = 0.2, random_state = 21)\r\n",
        "\"X_train and y_train shape: {0}, {1}, X_test and y_test shape {2}, {3}\".format(X_train.shape, y_train.shape, X_test.shape, y_test.shape)"
      ],
      "execution_count": null,
      "outputs": [
        {
          "output_type": "execute_result",
          "data": {
            "application/vnd.google.colaboratory.intrinsic+json": {
              "type": "string"
            },
            "text/plain": [
              "'X_train and y_train shape: (3945, 1), (3945, 1), X_test and y_test shape (987, 1), (987, 1)'"
            ]
          },
          "metadata": {
            "tags": []
          },
          "execution_count": 174
        }
      ]
    },
    {
      "cell_type": "code",
      "metadata": {
        "id": "DvYNXJrckj4Y"
      },
      "source": [
        "X_train.text = pre_proc(X_train.text)\r\n",
        "X_test.text = pre_proc(X_test.text)\r\n",
        "\r\n",
        "vectorizer = CountVectorizer() # ngram_range=(1, 1), max_df=1.0, min_df=1, max_features=4\r\n",
        "\r\n",
        "X_train_trans = pd.DataFrame(vectorizer.fit_transform(X_train.text).toarray()\r\n",
        "                             , columns = vectorizer.get_feature_names()\r\n",
        "                             , index = X_train.index)\r\n",
        "X_train_trans['qtd_words'] = X_train.text.apply(count_words)\r\n",
        "\r\n",
        "X_test_trans = pd.DataFrame(vectorizer.transform(X_test.text).toarray()\r\n",
        "                            , columns = vectorizer.get_feature_names()\r\n",
        "                            , index = X_test.index)\r\n",
        "X_test_trans['qtd_words'] = X_test.text.apply(count_words)"
      ],
      "execution_count": null,
      "outputs": []
    },
    {
      "cell_type": "markdown",
      "metadata": {
        "id": "UnjqUgDIk6Cm"
      },
      "source": [
        "## model"
      ]
    },
    {
      "cell_type": "code",
      "metadata": {
        "colab": {
          "base_uri": "https://localhost:8080/"
        },
        "id": "peYQNF1MkuMG",
        "outputId": "8bd2b45a-10d3-45cd-e6ca-551492926664"
      },
      "source": [
        "reg = ElasticNet(l1_ratio = 0.0)\r\n",
        "reg.fit(X_train_trans, y_train)\r\n",
        "\r\n",
        "y_pred = reg.predict(X_test_trans)\r\n",
        "mean_squared_error(y_test, y_pred, squared = False) # squared = F will return the RMSE"
      ],
      "execution_count": null,
      "outputs": [
        {
          "output_type": "stream",
          "text": [
            "Objective did not converge. You might want to increase the number of iterations. Duality gap: 621.7380346263329, tolerance: 0.12784338972370093\n"
          ],
          "name": "stderr"
        },
        {
          "output_type": "execute_result",
          "data": {
            "text/plain": [
              "0.5508491704701347"
            ]
          },
          "metadata": {
            "tags": []
          },
          "execution_count": 176
        }
      ]
    },
    {
      "cell_type": "markdown",
      "metadata": {
        "id": "JMdtsOm1k3sE"
      },
      "source": [
        "## saving the model"
      ]
    },
    {
      "cell_type": "code",
      "metadata": {
        "id": "9gd7SvBokx_O"
      },
      "source": [
        "with open('1b_vectorizer.pkl', 'wb') as file: \r\n",
        "    pickle.dump(vectorizer.vocabulary_, file) # countvectorizer\r\n",
        "with open('1b_reg.pkl', 'wb') as file: \r\n",
        "    pickle.dump(reg, file) # countvectorizer"
      ],
      "execution_count": null,
      "outputs": []
    },
    {
      "cell_type": "code",
      "metadata": {
        "id": "rCdGfBq-kz44"
      },
      "source": [
        "del X, y, X_train, X_test, y_train, y_test, vectorizer, X_train_trans, X_test_trans"
      ],
      "execution_count": null,
      "outputs": []
    },
    {
      "cell_type": "markdown",
      "metadata": {
        "id": "synapw5jlBGK"
      },
      "source": [
        "# 1c => humor_controversy\r\n",
        "\r\n"
      ]
    },
    {
      "cell_type": "markdown",
      "metadata": {
        "id": "i39q5KjllHdY"
      },
      "source": [
        "## data preparation"
      ]
    },
    {
      "cell_type": "code",
      "metadata": {
        "id": "0DO-0rFJlD18"
      },
      "source": [
        "X = df[df['is_humor']==1][['text']] #4932 Do not reset the index!\r\n",
        "y = df[df['is_humor']==1][['humor_controversy']] #4932"
      ],
      "execution_count": null,
      "outputs": []
    },
    {
      "cell_type": "code",
      "metadata": {
        "colab": {
          "base_uri": "https://localhost:8080/",
          "height": 36
        },
        "id": "Ub6xxAAolMoe",
        "outputId": "4a27b43e-c126-4c6d-f281-a6355965b488"
      },
      "source": [
        "X_train, X_test, y_train, y_test = train_test_split(X, y, test_size = 0.2, random_state = 21)\r\n",
        "\"X_train and y_train shape: {0}, {1}, X_test and y_test shape {2}, {3}\".format(X_train.shape, y_train.shape, X_test.shape, y_test.shape)"
      ],
      "execution_count": null,
      "outputs": [
        {
          "output_type": "execute_result",
          "data": {
            "application/vnd.google.colaboratory.intrinsic+json": {
              "type": "string"
            },
            "text/plain": [
              "'X_train and y_train shape: (3945, 1), (3945, 1), X_test and y_test shape (987, 1), (987, 1)'"
            ]
          },
          "metadata": {
            "tags": []
          },
          "execution_count": 180
        }
      ]
    },
    {
      "cell_type": "code",
      "metadata": {
        "colab": {
          "base_uri": "https://localhost:8080/"
        },
        "id": "4_ENHfnJlPmF",
        "outputId": "61b14d29-24ad-4219-b703-86e92fb7665c"
      },
      "source": [
        "total = len(y_train)\r\n",
        "print('% of positives is ', round(y_train.sum()/total, 4)) #'% of positives is {:.2f}'.format(y_train.sum()/total)\r\n",
        "print('% of negatives is ', round((total - y_train.sum())/total, 4)) #'% of negatives is {:.2f}'.format((total - y_train.sum())/total)"
      ],
      "execution_count": null,
      "outputs": [
        {
          "output_type": "stream",
          "text": [
            "% of positives is  humor_controversy    0.5037\n",
            "dtype: float64\n",
            "% of negatives is  humor_controversy    0.4963\n",
            "dtype: float64\n"
          ],
          "name": "stdout"
        }
      ]
    },
    {
      "cell_type": "code",
      "metadata": {
        "id": "bnDmUr18lQrv"
      },
      "source": [
        "X_train.text = pre_proc(X_train.text)\r\n",
        "X_test.text = pre_proc(X_test.text)\r\n",
        "\r\n",
        "#X_train['qtd_words'] = X_train.text.apply(count_words)\r\n",
        "#X_test['qtd_words'] = X_test.text.apply(count_words)\r\n",
        "\r\n",
        "vectorizer = CountVectorizer(min_df=1000) # ngram_range=(1, 1), max_df=1.0, min_df=1, max_features=4\r\n",
        "X_train_trans = pd.DataFrame(vectorizer.fit_transform(X_train.text).toarray()\r\n",
        "                             , columns = vectorizer.get_feature_names()\r\n",
        "                             , index = X_train.index)\r\n",
        "X_train_trans['qtd_words'] = X_train.text.apply(count_words)\r\n",
        "\r\n",
        "X_test_trans = pd.DataFrame(vectorizer.transform(X_test.text).toarray()\r\n",
        "                            , columns = vectorizer.get_feature_names()\r\n",
        "                            , index = X_test.index)\r\n",
        "X_test_trans['qtd_words'] = X_test.text.apply(count_words)\r\n"
      ],
      "execution_count": null,
      "outputs": []
    },
    {
      "cell_type": "markdown",
      "metadata": {
        "id": "kLc0Mi7flimT"
      },
      "source": [
        "## model"
      ]
    },
    {
      "cell_type": "code",
      "metadata": {
        "colab": {
          "base_uri": "https://localhost:8080/"
        },
        "id": "KhhHqbC3lbEb",
        "outputId": "4889f0f6-fe76-43aa-bd1e-9568f36316c2"
      },
      "source": [
        "clf = MultinomialNB()\r\n",
        "clf.fit(X_train_trans, y_train.humor_controversy)\r\n",
        "\r\n",
        "y_pred = clf.predict(X_test_trans)\r\n",
        "print(f1_score(y_test.humor_controversy, y_pred))"
      ],
      "execution_count": null,
      "outputs": [
        {
          "output_type": "stream",
          "text": [
            "0.549738219895288\n"
          ],
          "name": "stdout"
        }
      ]
    },
    {
      "cell_type": "markdown",
      "metadata": {
        "id": "m6A-FVz0lUFJ"
      },
      "source": [
        "## saving the model"
      ]
    },
    {
      "cell_type": "code",
      "metadata": {
        "id": "NdB3MctelXox"
      },
      "source": [
        "with open('1c_vectorizer.pkl', 'wb') as file: \r\n",
        "    pickle.dump(vectorizer.vocabulary_, file) # countvectorizer\r\n",
        "with open('1c_clf.pkl', 'wb') as file: \r\n",
        "    pickle.dump(clf, file) # countvectorizer"
      ],
      "execution_count": null,
      "outputs": []
    },
    {
      "cell_type": "code",
      "metadata": {
        "id": "LkZaHulTlgI-"
      },
      "source": [
        "del X, y, X_train, X_test, y_train, y_test, vectorizer, X_train_trans, X_test_trans"
      ],
      "execution_count": null,
      "outputs": []
    },
    {
      "cell_type": "markdown",
      "metadata": {
        "id": "JKp41lb1lsqT"
      },
      "source": [
        "# 2a => offense_rating"
      ]
    },
    {
      "cell_type": "markdown",
      "metadata": {
        "id": "plM1dI0Clxjy"
      },
      "source": [
        "## data preparation"
      ]
    },
    {
      "cell_type": "code",
      "metadata": {
        "id": "mEEElc2Il7qz"
      },
      "source": [
        "X = df[['text']] #4932 Do not reset the index!\r\n",
        "y = df[['offense_rating']] #4932"
      ],
      "execution_count": null,
      "outputs": []
    },
    {
      "cell_type": "code",
      "metadata": {
        "colab": {
          "base_uri": "https://localhost:8080/",
          "height": 36
        },
        "id": "qtHUZfF8l_e2",
        "outputId": "f422a8b3-a789-4d3e-be60-948222ca9ae2"
      },
      "source": [
        "X_train, X_test, y_train, y_test = train_test_split(X, y, test_size = 0.2, random_state = 21)\r\n",
        "\"X_train and y_train shape: {0}, {1}, X_test and y_test shape {2}, {3}\".format(X_train.shape, y_train.shape, X_test.shape, y_test.shape)"
      ],
      "execution_count": null,
      "outputs": [
        {
          "output_type": "execute_result",
          "data": {
            "application/vnd.google.colaboratory.intrinsic+json": {
              "type": "string"
            },
            "text/plain": [
              "'X_train and y_train shape: (6400, 1), (6400, 1), X_test and y_test shape (1600, 1), (1600, 1)'"
            ]
          },
          "metadata": {
            "tags": []
          },
          "execution_count": 187
        }
      ]
    },
    {
      "cell_type": "code",
      "metadata": {
        "id": "qP3eV7gjmCFU"
      },
      "source": [
        "X_train.text = pre_proc(X_train.text)\r\n",
        "X_test.text = pre_proc(X_test.text)\r\n",
        "\r\n",
        "vectorizer = CountVectorizer(max_features = 5_00) # ngram_range=(1, 1), max_df=1.0, min_df=1, max_features=4\r\n",
        "X_train_trans = pd.DataFrame(vectorizer.fit_transform(X_train.text).toarray()\r\n",
        "                             , columns = vectorizer.get_feature_names()\r\n",
        "                             , index = X_train.index)\r\n",
        "X_train_trans['qtd_words'] = X_train.text.apply(count_words)\r\n",
        "\r\n",
        "X_test_trans = pd.DataFrame(vectorizer.transform(X_test.text).toarray()\r\n",
        "                            , columns = vectorizer.get_feature_names()\r\n",
        "                            , index = X_test.index)\r\n",
        "X_test_trans['qtd_words'] = X_test.text.apply(count_words)"
      ],
      "execution_count": null,
      "outputs": []
    },
    {
      "cell_type": "markdown",
      "metadata": {
        "id": "hlg2OtEvl0NR"
      },
      "source": [
        "## model"
      ]
    },
    {
      "cell_type": "code",
      "metadata": {
        "colab": {
          "base_uri": "https://localhost:8080/"
        },
        "id": "kN1D9_MmlwX6",
        "outputId": "6cdd000e-3265-4199-e431-7d983ef57950"
      },
      "source": [
        "xgb_model = xgb.XGBRegressor(objective=\"reg:linear\", random_state=42)\r\n",
        "xgb_model.fit(X_train_trans, y_train)\r\n",
        "\r\n",
        "y_pred_xgb = xgb_model.predict(X_test_trans)\r\n",
        "mse=mean_squared_error( y_test, y_pred_xgb)\r\n",
        "\r\n",
        "print((mse)**(1/2))"
      ],
      "execution_count": null,
      "outputs": [
        {
          "output_type": "stream",
          "text": [
            "[21:42:58] WARNING: /workspace/src/objective/regression_obj.cu:152: reg:linear is now deprecated in favor of reg:squarederror.\n",
            "0.8121392197691781\n"
          ],
          "name": "stdout"
        }
      ]
    },
    {
      "cell_type": "markdown",
      "metadata": {
        "id": "mULf6hY2l32a"
      },
      "source": [
        "## saving the model"
      ]
    },
    {
      "cell_type": "code",
      "metadata": {
        "id": "CBLL9jEll6II"
      },
      "source": [
        "with open('2a_vectorizer.pkl', 'wb') as file: \r\n",
        "    pickle.dump(vectorizer.vocabulary_, file) # countvectorizer\r\n",
        "with open('2a_reg.pkl', 'wb') as file: \r\n",
        "    pickle.dump(xgb_model, file) # countvectorizer"
      ],
      "execution_count": null,
      "outputs": []
    },
    {
      "cell_type": "code",
      "metadata": {
        "id": "B48TsVJfm5YM"
      },
      "source": [
        ""
      ],
      "execution_count": null,
      "outputs": []
    }
  ]
}